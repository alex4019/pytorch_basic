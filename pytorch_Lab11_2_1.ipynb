{
  "nbformat": 4,
  "nbformat_minor": 0,
  "metadata": {
    "colab": {
      "name": "pytorch_Lab11_2_1.ipynb",
      "provenance": []
    },
    "kernelspec": {
      "name": "python3",
      "display_name": "Python 3"
    },
    "accelerator": "GPU"
  },
  "cells": [
    {
      "cell_type": "code",
      "metadata": {
        "id": "7FWGtCgEwiOK",
        "colab_type": "code",
        "colab": {}
      },
      "source": [
        "import torch\n",
        "import torch.nn as nn\n",
        "import torch.optim as optim\n",
        "import numpy as np"
      ],
      "execution_count": 0,
      "outputs": []
    },
    {
      "cell_type": "code",
      "metadata": {
        "id": "IRts25KFwpOm",
        "colab_type": "code",
        "colab": {
          "base_uri": "https://localhost:8080/",
          "height": 34
        },
        "outputId": "772cb952-e9dc-434b-b513-1b0bbbae6da1"
      },
      "source": [
        "torch.manual_seed(0)"
      ],
      "execution_count": 2,
      "outputs": [
        {
          "output_type": "execute_result",
          "data": {
            "text/plain": [
              "<torch._C.Generator at 0x7f4a17541b90>"
            ]
          },
          "metadata": {
            "tags": []
          },
          "execution_count": 2
        }
      ]
    },
    {
      "cell_type": "code",
      "metadata": {
        "id": "ZQZy3d3pwzMS",
        "colab_type": "code",
        "colab": {
          "base_uri": "https://localhost:8080/",
          "height": 34
        },
        "outputId": "4db3f3cf-52a9-4a9c-c3a2-d54e07ed6189"
      },
      "source": [
        "sample = \" if you want you\"\n",
        "# make dictionary\n",
        "char_set = list(set(sample))\n",
        "char_dic = {c: i for i, c in enumerate(char_set)}\n",
        "print(char_dic)"
      ],
      "execution_count": 3,
      "outputs": [
        {
          "output_type": "stream",
          "text": [
            "{'i': 0, 'n': 1, 'w': 2, 'y': 3, 'u': 4, ' ': 5, 'a': 6, 't': 7, 'o': 8, 'f': 9}\n"
          ],
          "name": "stdout"
        }
      ]
    },
    {
      "cell_type": "code",
      "metadata": {
        "id": "GlCkxq0Qw2GN",
        "colab_type": "code",
        "colab": {}
      },
      "source": [
        "dic_size = len(char_dic)\n",
        "hidden_size = len(char_dic)\n",
        "learning_rate = 0.1"
      ],
      "execution_count": 0,
      "outputs": []
    },
    {
      "cell_type": "code",
      "metadata": {
        "id": "1WxhWu4Xw4i8",
        "colab_type": "code",
        "colab": {}
      },
      "source": [
        "sample_idx = [char_dic[c] for c in sample]\n",
        "x_data = [sample_idx[:-1]]\n",
        "x_one_hot = [np.eye(dic_size)[x] for x in x_data]\n",
        "y_data = [sample_idx[1:]]"
      ],
      "execution_count": 0,
      "outputs": []
    },
    {
      "cell_type": "code",
      "metadata": {
        "id": "LQsQsT3Mw6KF",
        "colab_type": "code",
        "colab": {}
      },
      "source": [
        "X = torch.FloatTensor(x_one_hot)\n",
        "Y = torch.LongTensor(y_data)"
      ],
      "execution_count": 0,
      "outputs": []
    },
    {
      "cell_type": "code",
      "metadata": {
        "id": "DJxDe1xyw7jO",
        "colab_type": "code",
        "colab": {}
      },
      "source": [
        "rnn = torch.nn.RNN(dic_size, hidden_size, batch_first=True)"
      ],
      "execution_count": 0,
      "outputs": []
    },
    {
      "cell_type": "code",
      "metadata": {
        "id": "QqM7T37Kw824",
        "colab_type": "code",
        "colab": {}
      },
      "source": [
        "criterion = torch.nn.CrossEntropyLoss()\n",
        "optimizer = optim.Adam(rnn.parameters(), learning_rate)"
      ],
      "execution_count": 0,
      "outputs": []
    },
    {
      "cell_type": "code",
      "metadata": {
        "id": "TmCph-6ixAcx",
        "colab_type": "code",
        "colab": {
          "base_uri": "https://localhost:8080/",
          "height": 1000
        },
        "outputId": "91101eeb-60f4-47e0-cec9-9ff26bd3930e"
      },
      "source": [
        "for i in range(150):\n",
        "    optimizer.zero_grad()\n",
        "    outputs, _status = rnn(X)\n",
        "    loss = criterion(outputs.view(-1, dic_size), Y.view(-1))\n",
        "    loss.backward()\n",
        "    optimizer.step()\n",
        "\n",
        "    result = outputs.data.numpy().argmax(axis=2)\n",
        "    result_str = ''.join([char_set[c] for c in np.squeeze(result)])\n",
        "    print(i, \"loss: \", loss.item(), \"prediction: \", result, \"true Y: \", y_data, \"prediction str: \", result_str)"
      ],
      "execution_count": 10,
      "outputs": [
        {
          "output_type": "stream",
          "text": [
            "0 loss:  0.8466107249259949 prediction:  [[0 9 5 3 8 4 5 2 6 1 7 5 3 8 4]] true Y:  [[0, 9, 5, 3, 8, 4, 5, 2, 6, 1, 7, 5, 3, 8, 4]] prediction str:  if you want you\n",
            "1 loss:  0.8459002375602722 prediction:  [[0 9 5 3 8 4 5 2 6 1 7 5 3 8 4]] true Y:  [[0, 9, 5, 3, 8, 4, 5, 2, 6, 1, 7, 5, 3, 8, 4]] prediction str:  if you want you\n",
            "2 loss:  0.8453657031059265 prediction:  [[0 9 5 3 8 4 5 2 6 1 7 5 3 8 4]] true Y:  [[0, 9, 5, 3, 8, 4, 5, 2, 6, 1, 7, 5, 3, 8, 4]] prediction str:  if you want you\n",
            "3 loss:  0.8450221419334412 prediction:  [[0 9 5 3 8 4 5 2 6 1 7 5 3 8 4]] true Y:  [[0, 9, 5, 3, 8, 4, 5, 2, 6, 1, 7, 5, 3, 8, 4]] prediction str:  if you want you\n",
            "4 loss:  0.8446151614189148 prediction:  [[0 9 5 3 8 4 5 2 6 1 7 5 3 8 4]] true Y:  [[0, 9, 5, 3, 8, 4, 5, 2, 6, 1, 7, 5, 3, 8, 4]] prediction str:  if you want you\n",
            "5 loss:  0.8441304564476013 prediction:  [[0 9 5 3 8 4 5 2 6 1 7 5 3 8 4]] true Y:  [[0, 9, 5, 3, 8, 4, 5, 2, 6, 1, 7, 5, 3, 8, 4]] prediction str:  if you want you\n",
            "6 loss:  0.8436415195465088 prediction:  [[0 9 5 3 8 4 5 2 6 1 7 5 3 8 4]] true Y:  [[0, 9, 5, 3, 8, 4, 5, 2, 6, 1, 7, 5, 3, 8, 4]] prediction str:  if you want you\n",
            "7 loss:  0.8431456685066223 prediction:  [[0 9 5 3 8 4 5 2 6 1 7 5 3 8 4]] true Y:  [[0, 9, 5, 3, 8, 4, 5, 2, 6, 1, 7, 5, 3, 8, 4]] prediction str:  if you want you\n",
            "8 loss:  0.8427018523216248 prediction:  [[0 9 5 3 8 4 5 2 6 1 7 5 3 8 4]] true Y:  [[0, 9, 5, 3, 8, 4, 5, 2, 6, 1, 7, 5, 3, 8, 4]] prediction str:  if you want you\n",
            "9 loss:  0.8423179388046265 prediction:  [[0 9 5 3 8 4 5 2 6 1 7 5 3 8 4]] true Y:  [[0, 9, 5, 3, 8, 4, 5, 2, 6, 1, 7, 5, 3, 8, 4]] prediction str:  if you want you\n",
            "10 loss:  0.8418647050857544 prediction:  [[0 9 5 3 8 4 5 2 6 1 7 5 3 8 4]] true Y:  [[0, 9, 5, 3, 8, 4, 5, 2, 6, 1, 7, 5, 3, 8, 4]] prediction str:  if you want you\n",
            "11 loss:  0.8412371873855591 prediction:  [[0 9 5 3 8 4 5 2 6 1 7 5 3 8 4]] true Y:  [[0, 9, 5, 3, 8, 4, 5, 2, 6, 1, 7, 5, 3, 8, 4]] prediction str:  if you want you\n",
            "12 loss:  0.8403944373130798 prediction:  [[0 9 5 3 8 4 5 2 6 1 7 5 3 8 4]] true Y:  [[0, 9, 5, 3, 8, 4, 5, 2, 6, 1, 7, 5, 3, 8, 4]] prediction str:  if you want you\n",
            "13 loss:  0.8392127752304077 prediction:  [[0 9 5 3 8 4 5 2 6 1 7 5 3 8 4]] true Y:  [[0, 9, 5, 3, 8, 4, 5, 2, 6, 1, 7, 5, 3, 8, 4]] prediction str:  if you want you\n",
            "14 loss:  0.8373032808303833 prediction:  [[0 9 5 3 8 4 5 2 6 1 7 5 3 8 4]] true Y:  [[0, 9, 5, 3, 8, 4, 5, 2, 6, 1, 7, 5, 3, 8, 4]] prediction str:  if you want you\n",
            "15 loss:  0.8339044451713562 prediction:  [[0 9 5 3 8 4 5 2 6 1 7 5 3 8 4]] true Y:  [[0, 9, 5, 3, 8, 4, 5, 2, 6, 1, 7, 5, 3, 8, 4]] prediction str:  if you want you\n",
            "16 loss:  0.8288920521736145 prediction:  [[0 9 5 3 8 4 5 2 6 1 7 5 3 8 4]] true Y:  [[0, 9, 5, 3, 8, 4, 5, 2, 6, 1, 7, 5, 3, 8, 4]] prediction str:  if you want you\n",
            "17 loss:  0.8266598582267761 prediction:  [[0 9 5 3 8 4 5 2 6 1 7 5 3 8 4]] true Y:  [[0, 9, 5, 3, 8, 4, 5, 2, 6, 1, 7, 5, 3, 8, 4]] prediction str:  if you want you\n",
            "18 loss:  0.8277084827423096 prediction:  [[0 9 5 3 8 4 5 2 6 1 7 5 3 8 4]] true Y:  [[0, 9, 5, 3, 8, 4, 5, 2, 6, 1, 7, 5, 3, 8, 4]] prediction str:  if you want you\n",
            "19 loss:  0.8259144425392151 prediction:  [[0 9 5 3 8 4 5 2 6 1 7 5 3 8 4]] true Y:  [[0, 9, 5, 3, 8, 4, 5, 2, 6, 1, 7, 5, 3, 8, 4]] prediction str:  if you want you\n",
            "20 loss:  0.8242481350898743 prediction:  [[0 9 5 3 8 4 5 2 6 1 7 5 3 8 4]] true Y:  [[0, 9, 5, 3, 8, 4, 5, 2, 6, 1, 7, 5, 3, 8, 4]] prediction str:  if you want you\n",
            "21 loss:  0.8229047060012817 prediction:  [[0 9 5 3 8 4 5 2 6 1 7 5 3 8 4]] true Y:  [[0, 9, 5, 3, 8, 4, 5, 2, 6, 1, 7, 5, 3, 8, 4]] prediction str:  if you want you\n",
            "22 loss:  0.8222037553787231 prediction:  [[0 9 5 3 8 4 5 2 6 1 7 5 3 8 4]] true Y:  [[0, 9, 5, 3, 8, 4, 5, 2, 6, 1, 7, 5, 3, 8, 4]] prediction str:  if you want you\n",
            "23 loss:  0.821568489074707 prediction:  [[0 9 5 3 8 4 5 2 6 1 7 5 3 8 4]] true Y:  [[0, 9, 5, 3, 8, 4, 5, 2, 6, 1, 7, 5, 3, 8, 4]] prediction str:  if you want you\n",
            "24 loss:  0.8206108212471008 prediction:  [[0 9 5 3 8 4 5 2 6 1 7 5 3 8 4]] true Y:  [[0, 9, 5, 3, 8, 4, 5, 2, 6, 1, 7, 5, 3, 8, 4]] prediction str:  if you want you\n",
            "25 loss:  0.820355236530304 prediction:  [[0 9 5 3 8 4 5 2 6 1 7 5 3 8 4]] true Y:  [[0, 9, 5, 3, 8, 4, 5, 2, 6, 1, 7, 5, 3, 8, 4]] prediction str:  if you want you\n",
            "26 loss:  0.8203723430633545 prediction:  [[0 9 5 3 8 4 5 2 6 1 7 5 3 8 4]] true Y:  [[0, 9, 5, 3, 8, 4, 5, 2, 6, 1, 7, 5, 3, 8, 4]] prediction str:  if you want you\n",
            "27 loss:  0.820186197757721 prediction:  [[0 9 5 3 8 4 5 2 6 1 7 5 3 8 4]] true Y:  [[0, 9, 5, 3, 8, 4, 5, 2, 6, 1, 7, 5, 3, 8, 4]] prediction str:  if you want you\n",
            "28 loss:  0.8196295499801636 prediction:  [[0 9 5 3 8 4 5 2 6 1 7 5 3 8 4]] true Y:  [[0, 9, 5, 3, 8, 4, 5, 2, 6, 1, 7, 5, 3, 8, 4]] prediction str:  if you want you\n",
            "29 loss:  0.8188831806182861 prediction:  [[0 9 5 3 8 4 5 2 6 1 7 5 3 8 4]] true Y:  [[0, 9, 5, 3, 8, 4, 5, 2, 6, 1, 7, 5, 3, 8, 4]] prediction str:  if you want you\n",
            "30 loss:  0.818338930606842 prediction:  [[0 9 5 3 8 4 5 2 6 1 7 5 3 8 4]] true Y:  [[0, 9, 5, 3, 8, 4, 5, 2, 6, 1, 7, 5, 3, 8, 4]] prediction str:  if you want you\n",
            "31 loss:  0.8180617094039917 prediction:  [[0 9 5 3 8 4 5 2 6 1 7 5 3 8 4]] true Y:  [[0, 9, 5, 3, 8, 4, 5, 2, 6, 1, 7, 5, 3, 8, 4]] prediction str:  if you want you\n",
            "32 loss:  0.8177996873855591 prediction:  [[0 9 5 3 8 4 5 2 6 1 7 5 3 8 4]] true Y:  [[0, 9, 5, 3, 8, 4, 5, 2, 6, 1, 7, 5, 3, 8, 4]] prediction str:  if you want you\n",
            "33 loss:  0.8174190521240234 prediction:  [[0 9 5 3 8 4 5 2 6 1 7 5 3 8 4]] true Y:  [[0, 9, 5, 3, 8, 4, 5, 2, 6, 1, 7, 5, 3, 8, 4]] prediction str:  if you want you\n",
            "34 loss:  0.8169845342636108 prediction:  [[0 9 5 3 8 4 5 2 6 1 7 5 3 8 4]] true Y:  [[0, 9, 5, 3, 8, 4, 5, 2, 6, 1, 7, 5, 3, 8, 4]] prediction str:  if you want you\n",
            "35 loss:  0.8166471719741821 prediction:  [[0 9 5 3 8 4 5 2 6 1 7 5 3 8 4]] true Y:  [[0, 9, 5, 3, 8, 4, 5, 2, 6, 1, 7, 5, 3, 8, 4]] prediction str:  if you want you\n",
            "36 loss:  0.8165337443351746 prediction:  [[0 9 5 3 8 4 5 2 6 1 7 5 3 8 4]] true Y:  [[0, 9, 5, 3, 8, 4, 5, 2, 6, 1, 7, 5, 3, 8, 4]] prediction str:  if you want you\n",
            "37 loss:  0.8164241909980774 prediction:  [[0 9 5 3 8 4 5 2 6 1 7 5 3 8 4]] true Y:  [[0, 9, 5, 3, 8, 4, 5, 2, 6, 1, 7, 5, 3, 8, 4]] prediction str:  if you want you\n",
            "38 loss:  0.8162339329719543 prediction:  [[0 9 5 3 8 4 5 2 6 1 7 5 3 8 4]] true Y:  [[0, 9, 5, 3, 8, 4, 5, 2, 6, 1, 7, 5, 3, 8, 4]] prediction str:  if you want you\n",
            "39 loss:  0.8160277605056763 prediction:  [[0 9 5 3 8 4 5 2 6 1 7 5 3 8 4]] true Y:  [[0, 9, 5, 3, 8, 4, 5, 2, 6, 1, 7, 5, 3, 8, 4]] prediction str:  if you want you\n",
            "40 loss:  0.8157929182052612 prediction:  [[0 9 5 3 8 4 5 2 6 1 7 5 3 8 4]] true Y:  [[0, 9, 5, 3, 8, 4, 5, 2, 6, 1, 7, 5, 3, 8, 4]] prediction str:  if you want you\n",
            "41 loss:  0.8156961798667908 prediction:  [[0 9 5 3 8 4 5 2 6 1 7 5 3 8 4]] true Y:  [[0, 9, 5, 3, 8, 4, 5, 2, 6, 1, 7, 5, 3, 8, 4]] prediction str:  if you want you\n",
            "42 loss:  0.8156121969223022 prediction:  [[0 9 5 3 8 4 5 2 6 1 7 5 3 8 4]] true Y:  [[0, 9, 5, 3, 8, 4, 5, 2, 6, 1, 7, 5, 3, 8, 4]] prediction str:  if you want you\n",
            "43 loss:  0.815448522567749 prediction:  [[0 9 5 3 8 4 5 2 6 1 7 5 3 8 4]] true Y:  [[0, 9, 5, 3, 8, 4, 5, 2, 6, 1, 7, 5, 3, 8, 4]] prediction str:  if you want you\n",
            "44 loss:  0.8153252005577087 prediction:  [[0 9 5 3 8 4 5 2 6 1 7 5 3 8 4]] true Y:  [[0, 9, 5, 3, 8, 4, 5, 2, 6, 1, 7, 5, 3, 8, 4]] prediction str:  if you want you\n",
            "45 loss:  0.8151588439941406 prediction:  [[0 9 5 3 8 4 5 2 6 1 7 5 3 8 4]] true Y:  [[0, 9, 5, 3, 8, 4, 5, 2, 6, 1, 7, 5, 3, 8, 4]] prediction str:  if you want you\n",
            "46 loss:  0.8150652647018433 prediction:  [[0 9 5 3 8 4 5 2 6 1 7 5 3 8 4]] true Y:  [[0, 9, 5, 3, 8, 4, 5, 2, 6, 1, 7, 5, 3, 8, 4]] prediction str:  if you want you\n",
            "47 loss:  0.8149871826171875 prediction:  [[0 9 5 3 8 4 5 2 6 1 7 5 3 8 4]] true Y:  [[0, 9, 5, 3, 8, 4, 5, 2, 6, 1, 7, 5, 3, 8, 4]] prediction str:  if you want you\n",
            "48 loss:  0.8148385286331177 prediction:  [[0 9 5 3 8 4 5 2 6 1 7 5 3 8 4]] true Y:  [[0, 9, 5, 3, 8, 4, 5, 2, 6, 1, 7, 5, 3, 8, 4]] prediction str:  if you want you\n",
            "49 loss:  0.8147382736206055 prediction:  [[0 9 5 3 8 4 5 2 6 1 7 5 3 8 4]] true Y:  [[0, 9, 5, 3, 8, 4, 5, 2, 6, 1, 7, 5, 3, 8, 4]] prediction str:  if you want you\n",
            "50 loss:  0.8146082162857056 prediction:  [[0 9 5 3 8 4 5 2 6 1 7 5 3 8 4]] true Y:  [[0, 9, 5, 3, 8, 4, 5, 2, 6, 1, 7, 5, 3, 8, 4]] prediction str:  if you want you\n",
            "51 loss:  0.8145199418067932 prediction:  [[0 9 5 3 8 4 5 2 6 1 7 5 3 8 4]] true Y:  [[0, 9, 5, 3, 8, 4, 5, 2, 6, 1, 7, 5, 3, 8, 4]] prediction str:  if you want you\n",
            "52 loss:  0.8144426941871643 prediction:  [[0 9 5 3 8 4 5 2 6 1 7 5 3 8 4]] true Y:  [[0, 9, 5, 3, 8, 4, 5, 2, 6, 1, 7, 5, 3, 8, 4]] prediction str:  if you want you\n",
            "53 loss:  0.8143179416656494 prediction:  [[0 9 5 3 8 4 5 2 6 1 7 5 3 8 4]] true Y:  [[0, 9, 5, 3, 8, 4, 5, 2, 6, 1, 7, 5, 3, 8, 4]] prediction str:  if you want you\n",
            "54 loss:  0.8142319321632385 prediction:  [[0 9 5 3 8 4 5 2 6 1 7 5 3 8 4]] true Y:  [[0, 9, 5, 3, 8, 4, 5, 2, 6, 1, 7, 5, 3, 8, 4]] prediction str:  if you want you\n",
            "55 loss:  0.814125120639801 prediction:  [[0 9 5 3 8 4 5 2 6 1 7 5 3 8 4]] true Y:  [[0, 9, 5, 3, 8, 4, 5, 2, 6, 1, 7, 5, 3, 8, 4]] prediction str:  if you want you\n",
            "56 loss:  0.8140434622764587 prediction:  [[0 9 5 3 8 4 5 2 6 1 7 5 3 8 4]] true Y:  [[0, 9, 5, 3, 8, 4, 5, 2, 6, 1, 7, 5, 3, 8, 4]] prediction str:  if you want you\n",
            "57 loss:  0.8139631152153015 prediction:  [[0 9 5 3 8 4 5 2 6 1 7 5 3 8 4]] true Y:  [[0, 9, 5, 3, 8, 4, 5, 2, 6, 1, 7, 5, 3, 8, 4]] prediction str:  if you want you\n",
            "58 loss:  0.8138580322265625 prediction:  [[0 9 5 3 8 4 5 2 6 1 7 5 3 8 4]] true Y:  [[0, 9, 5, 3, 8, 4, 5, 2, 6, 1, 7, 5, 3, 8, 4]] prediction str:  if you want you\n",
            "59 loss:  0.8137809038162231 prediction:  [[0 9 5 3 8 4 5 2 6 1 7 5 3 8 4]] true Y:  [[0, 9, 5, 3, 8, 4, 5, 2, 6, 1, 7, 5, 3, 8, 4]] prediction str:  if you want you\n",
            "60 loss:  0.8136905431747437 prediction:  [[0 9 5 3 8 4 5 2 6 1 7 5 3 8 4]] true Y:  [[0, 9, 5, 3, 8, 4, 5, 2, 6, 1, 7, 5, 3, 8, 4]] prediction str:  if you want you\n",
            "61 loss:  0.8136170506477356 prediction:  [[0 9 5 3 8 4 5 2 6 1 7 5 3 8 4]] true Y:  [[0, 9, 5, 3, 8, 4, 5, 2, 6, 1, 7, 5, 3, 8, 4]] prediction str:  if you want you\n",
            "62 loss:  0.8135370016098022 prediction:  [[0 9 5 3 8 4 5 2 6 1 7 5 3 8 4]] true Y:  [[0, 9, 5, 3, 8, 4, 5, 2, 6, 1, 7, 5, 3, 8, 4]] prediction str:  if you want you\n",
            "63 loss:  0.8134478330612183 prediction:  [[0 9 5 3 8 4 5 2 6 1 7 5 3 8 4]] true Y:  [[0, 9, 5, 3, 8, 4, 5, 2, 6, 1, 7, 5, 3, 8, 4]] prediction str:  if you want you\n",
            "64 loss:  0.8133756518363953 prediction:  [[0 9 5 3 8 4 5 2 6 1 7 5 3 8 4]] true Y:  [[0, 9, 5, 3, 8, 4, 5, 2, 6, 1, 7, 5, 3, 8, 4]] prediction str:  if you want you\n",
            "65 loss:  0.8132954239845276 prediction:  [[0 9 5 3 8 4 5 2 6 1 7 5 3 8 4]] true Y:  [[0, 9, 5, 3, 8, 4, 5, 2, 6, 1, 7, 5, 3, 8, 4]] prediction str:  if you want you\n",
            "66 loss:  0.8132269978523254 prediction:  [[0 9 5 3 8 4 5 2 6 1 7 5 3 8 4]] true Y:  [[0, 9, 5, 3, 8, 4, 5, 2, 6, 1, 7, 5, 3, 8, 4]] prediction str:  if you want you\n",
            "67 loss:  0.8131498098373413 prediction:  [[0 9 5 3 8 4 5 2 6 1 7 5 3 8 4]] true Y:  [[0, 9, 5, 3, 8, 4, 5, 2, 6, 1, 7, 5, 3, 8, 4]] prediction str:  if you want you\n",
            "68 loss:  0.8130741715431213 prediction:  [[0 9 5 3 8 4 5 2 6 1 7 5 3 8 4]] true Y:  [[0, 9, 5, 3, 8, 4, 5, 2, 6, 1, 7, 5, 3, 8, 4]] prediction str:  if you want you\n",
            "69 loss:  0.8130061030387878 prediction:  [[0 9 5 3 8 4 5 2 6 1 7 5 3 8 4]] true Y:  [[0, 9, 5, 3, 8, 4, 5, 2, 6, 1, 7, 5, 3, 8, 4]] prediction str:  if you want you\n",
            "70 loss:  0.8129338622093201 prediction:  [[0 9 5 3 8 4 5 2 6 1 7 5 3 8 4]] true Y:  [[0, 9, 5, 3, 8, 4, 5, 2, 6, 1, 7, 5, 3, 8, 4]] prediction str:  if you want you\n",
            "71 loss:  0.8128681182861328 prediction:  [[0 9 5 3 8 4 5 2 6 1 7 5 3 8 4]] true Y:  [[0, 9, 5, 3, 8, 4, 5, 2, 6, 1, 7, 5, 3, 8, 4]] prediction str:  if you want you\n",
            "72 loss:  0.8127953410148621 prediction:  [[0 9 5 3 8 4 5 2 6 1 7 5 3 8 4]] true Y:  [[0, 9, 5, 3, 8, 4, 5, 2, 6, 1, 7, 5, 3, 8, 4]] prediction str:  if you want you\n",
            "73 loss:  0.8127283453941345 prediction:  [[0 9 5 3 8 4 5 2 6 1 7 5 3 8 4]] true Y:  [[0, 9, 5, 3, 8, 4, 5, 2, 6, 1, 7, 5, 3, 8, 4]] prediction str:  if you want you\n",
            "74 loss:  0.8126633167266846 prediction:  [[0 9 5 3 8 4 5 2 6 1 7 5 3 8 4]] true Y:  [[0, 9, 5, 3, 8, 4, 5, 2, 6, 1, 7, 5, 3, 8, 4]] prediction str:  if you want you\n",
            "75 loss:  0.8125976920127869 prediction:  [[0 9 5 3 8 4 5 2 6 1 7 5 3 8 4]] true Y:  [[0, 9, 5, 3, 8, 4, 5, 2, 6, 1, 7, 5, 3, 8, 4]] prediction str:  if you want you\n",
            "76 loss:  0.8125342130661011 prediction:  [[0 9 5 3 8 4 5 2 6 1 7 5 3 8 4]] true Y:  [[0, 9, 5, 3, 8, 4, 5, 2, 6, 1, 7, 5, 3, 8, 4]] prediction str:  if you want you\n",
            "77 loss:  0.8124674558639526 prediction:  [[0 9 5 3 8 4 5 2 6 1 7 5 3 8 4]] true Y:  [[0, 9, 5, 3, 8, 4, 5, 2, 6, 1, 7, 5, 3, 8, 4]] prediction str:  if you want you\n",
            "78 loss:  0.8124063014984131 prediction:  [[0 9 5 3 8 4 5 2 6 1 7 5 3 8 4]] true Y:  [[0, 9, 5, 3, 8, 4, 5, 2, 6, 1, 7, 5, 3, 8, 4]] prediction str:  if you want you\n",
            "79 loss:  0.812343955039978 prediction:  [[0 9 5 3 8 4 5 2 6 1 7 5 3 8 4]] true Y:  [[0, 9, 5, 3, 8, 4, 5, 2, 6, 1, 7, 5, 3, 8, 4]] prediction str:  if you want you\n",
            "80 loss:  0.812282919883728 prediction:  [[0 9 5 3 8 4 5 2 6 1 7 5 3 8 4]] true Y:  [[0, 9, 5, 3, 8, 4, 5, 2, 6, 1, 7, 5, 3, 8, 4]] prediction str:  if you want you\n",
            "81 loss:  0.8122215867042542 prediction:  [[0 9 5 3 8 4 5 2 6 1 7 5 3 8 4]] true Y:  [[0, 9, 5, 3, 8, 4, 5, 2, 6, 1, 7, 5, 3, 8, 4]] prediction str:  if you want you\n",
            "82 loss:  0.8121610283851624 prediction:  [[0 9 5 3 8 4 5 2 6 1 7 5 3 8 4]] true Y:  [[0, 9, 5, 3, 8, 4, 5, 2, 6, 1, 7, 5, 3, 8, 4]] prediction str:  if you want you\n",
            "83 loss:  0.8121030330657959 prediction:  [[0 9 5 3 8 4 5 2 6 1 7 5 3 8 4]] true Y:  [[0, 9, 5, 3, 8, 4, 5, 2, 6, 1, 7, 5, 3, 8, 4]] prediction str:  if you want you\n",
            "84 loss:  0.8120441436767578 prediction:  [[0 9 5 3 8 4 5 2 6 1 7 5 3 8 4]] true Y:  [[0, 9, 5, 3, 8, 4, 5, 2, 6, 1, 7, 5, 3, 8, 4]] prediction str:  if you want you\n",
            "85 loss:  0.8119868636131287 prediction:  [[0 9 5 3 8 4 5 2 6 1 7 5 3 8 4]] true Y:  [[0, 9, 5, 3, 8, 4, 5, 2, 6, 1, 7, 5, 3, 8, 4]] prediction str:  if you want you\n",
            "86 loss:  0.8119286894798279 prediction:  [[0 9 5 3 8 4 5 2 6 1 7 5 3 8 4]] true Y:  [[0, 9, 5, 3, 8, 4, 5, 2, 6, 1, 7, 5, 3, 8, 4]] prediction str:  if you want you\n",
            "87 loss:  0.811872661113739 prediction:  [[0 9 5 3 8 4 5 2 6 1 7 5 3 8 4]] true Y:  [[0, 9, 5, 3, 8, 4, 5, 2, 6, 1, 7, 5, 3, 8, 4]] prediction str:  if you want you\n",
            "88 loss:  0.8118171691894531 prediction:  [[0 9 5 3 8 4 5 2 6 1 7 5 3 8 4]] true Y:  [[0, 9, 5, 3, 8, 4, 5, 2, 6, 1, 7, 5, 3, 8, 4]] prediction str:  if you want you\n",
            "89 loss:  0.8117618560791016 prediction:  [[0 9 5 3 8 4 5 2 6 1 7 5 3 8 4]] true Y:  [[0, 9, 5, 3, 8, 4, 5, 2, 6, 1, 7, 5, 3, 8, 4]] prediction str:  if you want you\n",
            "90 loss:  0.8117071986198425 prediction:  [[0 9 5 3 8 4 5 2 6 1 7 5 3 8 4]] true Y:  [[0, 9, 5, 3, 8, 4, 5, 2, 6, 1, 7, 5, 3, 8, 4]] prediction str:  if you want you\n",
            "91 loss:  0.8116527795791626 prediction:  [[0 9 5 3 8 4 5 2 6 1 7 5 3 8 4]] true Y:  [[0, 9, 5, 3, 8, 4, 5, 2, 6, 1, 7, 5, 3, 8, 4]] prediction str:  if you want you\n",
            "92 loss:  0.8115999102592468 prediction:  [[0 9 5 3 8 4 5 2 6 1 7 5 3 8 4]] true Y:  [[0, 9, 5, 3, 8, 4, 5, 2, 6, 1, 7, 5, 3, 8, 4]] prediction str:  if you want you\n",
            "93 loss:  0.8115469217300415 prediction:  [[0 9 5 3 8 4 5 2 6 1 7 5 3 8 4]] true Y:  [[0, 9, 5, 3, 8, 4, 5, 2, 6, 1, 7, 5, 3, 8, 4]] prediction str:  if you want you\n",
            "94 loss:  0.811494767665863 prediction:  [[0 9 5 3 8 4 5 2 6 1 7 5 3 8 4]] true Y:  [[0, 9, 5, 3, 8, 4, 5, 2, 6, 1, 7, 5, 3, 8, 4]] prediction str:  if you want you\n",
            "95 loss:  0.8114426136016846 prediction:  [[0 9 5 3 8 4 5 2 6 1 7 5 3 8 4]] true Y:  [[0, 9, 5, 3, 8, 4, 5, 2, 6, 1, 7, 5, 3, 8, 4]] prediction str:  if you want you\n",
            "96 loss:  0.8113916516304016 prediction:  [[0 9 5 3 8 4 5 2 6 1 7 5 3 8 4]] true Y:  [[0, 9, 5, 3, 8, 4, 5, 2, 6, 1, 7, 5, 3, 8, 4]] prediction str:  if you want you\n",
            "97 loss:  0.8113410472869873 prediction:  [[0 9 5 3 8 4 5 2 6 1 7 5 3 8 4]] true Y:  [[0, 9, 5, 3, 8, 4, 5, 2, 6, 1, 7, 5, 3, 8, 4]] prediction str:  if you want you\n",
            "98 loss:  0.8112909197807312 prediction:  [[0 9 5 3 8 4 5 2 6 1 7 5 3 8 4]] true Y:  [[0, 9, 5, 3, 8, 4, 5, 2, 6, 1, 7, 5, 3, 8, 4]] prediction str:  if you want you\n",
            "99 loss:  0.8112412095069885 prediction:  [[0 9 5 3 8 4 5 2 6 1 7 5 3 8 4]] true Y:  [[0, 9, 5, 3, 8, 4, 5, 2, 6, 1, 7, 5, 3, 8, 4]] prediction str:  if you want you\n",
            "100 loss:  0.811191976070404 prediction:  [[0 9 5 3 8 4 5 2 6 1 7 5 3 8 4]] true Y:  [[0, 9, 5, 3, 8, 4, 5, 2, 6, 1, 7, 5, 3, 8, 4]] prediction str:  if you want you\n",
            "101 loss:  0.8111436367034912 prediction:  [[0 9 5 3 8 4 5 2 6 1 7 5 3 8 4]] true Y:  [[0, 9, 5, 3, 8, 4, 5, 2, 6, 1, 7, 5, 3, 8, 4]] prediction str:  if you want you\n",
            "102 loss:  0.8110953569412231 prediction:  [[0 9 5 3 8 4 5 2 6 1 7 5 3 8 4]] true Y:  [[0, 9, 5, 3, 8, 4, 5, 2, 6, 1, 7, 5, 3, 8, 4]] prediction str:  if you want you\n",
            "103 loss:  0.8110477328300476 prediction:  [[0 9 5 3 8 4 5 2 6 1 7 5 3 8 4]] true Y:  [[0, 9, 5, 3, 8, 4, 5, 2, 6, 1, 7, 5, 3, 8, 4]] prediction str:  if you want you\n",
            "104 loss:  0.8110005259513855 prediction:  [[0 9 5 3 8 4 5 2 6 1 7 5 3 8 4]] true Y:  [[0, 9, 5, 3, 8, 4, 5, 2, 6, 1, 7, 5, 3, 8, 4]] prediction str:  if you want you\n",
            "105 loss:  0.8109537959098816 prediction:  [[0 9 5 3 8 4 5 2 6 1 7 5 3 8 4]] true Y:  [[0, 9, 5, 3, 8, 4, 5, 2, 6, 1, 7, 5, 3, 8, 4]] prediction str:  if you want you\n",
            "106 loss:  0.8109075427055359 prediction:  [[0 9 5 3 8 4 5 2 6 1 7 5 3 8 4]] true Y:  [[0, 9, 5, 3, 8, 4, 5, 2, 6, 1, 7, 5, 3, 8, 4]] prediction str:  if you want you\n",
            "107 loss:  0.8108615875244141 prediction:  [[0 9 5 3 8 4 5 2 6 1 7 5 3 8 4]] true Y:  [[0, 9, 5, 3, 8, 4, 5, 2, 6, 1, 7, 5, 3, 8, 4]] prediction str:  if you want you\n",
            "108 loss:  0.8108161687850952 prediction:  [[0 9 5 3 8 4 5 2 6 1 7 5 3 8 4]] true Y:  [[0, 9, 5, 3, 8, 4, 5, 2, 6, 1, 7, 5, 3, 8, 4]] prediction str:  if you want you\n",
            "109 loss:  0.8107710480690002 prediction:  [[0 9 5 3 8 4 5 2 6 1 7 5 3 8 4]] true Y:  [[0, 9, 5, 3, 8, 4, 5, 2, 6, 1, 7, 5, 3, 8, 4]] prediction str:  if you want you\n",
            "110 loss:  0.8107267022132874 prediction:  [[0 9 5 3 8 4 5 2 6 1 7 5 3 8 4]] true Y:  [[0, 9, 5, 3, 8, 4, 5, 2, 6, 1, 7, 5, 3, 8, 4]] prediction str:  if you want you\n",
            "111 loss:  0.8106823563575745 prediction:  [[0 9 5 3 8 4 5 2 6 1 7 5 3 8 4]] true Y:  [[0, 9, 5, 3, 8, 4, 5, 2, 6, 1, 7, 5, 3, 8, 4]] prediction str:  if you want you\n",
            "112 loss:  0.8106386065483093 prediction:  [[0 9 5 3 8 4 5 2 6 1 7 5 3 8 4]] true Y:  [[0, 9, 5, 3, 8, 4, 5, 2, 6, 1, 7, 5, 3, 8, 4]] prediction str:  if you want you\n",
            "113 loss:  0.8105952739715576 prediction:  [[0 9 5 3 8 4 5 2 6 1 7 5 3 8 4]] true Y:  [[0, 9, 5, 3, 8, 4, 5, 2, 6, 1, 7, 5, 3, 8, 4]] prediction str:  if you want you\n",
            "114 loss:  0.8105524182319641 prediction:  [[0 9 5 3 8 4 5 2 6 1 7 5 3 8 4]] true Y:  [[0, 9, 5, 3, 8, 4, 5, 2, 6, 1, 7, 5, 3, 8, 4]] prediction str:  if you want you\n",
            "115 loss:  0.8105097413063049 prediction:  [[0 9 5 3 8 4 5 2 6 1 7 5 3 8 4]] true Y:  [[0, 9, 5, 3, 8, 4, 5, 2, 6, 1, 7, 5, 3, 8, 4]] prediction str:  if you want you\n",
            "116 loss:  0.8104676008224487 prediction:  [[0 9 5 3 8 4 5 2 6 1 7 5 3 8 4]] true Y:  [[0, 9, 5, 3, 8, 4, 5, 2, 6, 1, 7, 5, 3, 8, 4]] prediction str:  if you want you\n",
            "117 loss:  0.8104256987571716 prediction:  [[0 9 5 3 8 4 5 2 6 1 7 5 3 8 4]] true Y:  [[0, 9, 5, 3, 8, 4, 5, 2, 6, 1, 7, 5, 3, 8, 4]] prediction str:  if you want you\n",
            "118 loss:  0.8103843331336975 prediction:  [[0 9 5 3 8 4 5 2 6 1 7 5 3 8 4]] true Y:  [[0, 9, 5, 3, 8, 4, 5, 2, 6, 1, 7, 5, 3, 8, 4]] prediction str:  if you want you\n",
            "119 loss:  0.8103432059288025 prediction:  [[0 9 5 3 8 4 5 2 6 1 7 5 3 8 4]] true Y:  [[0, 9, 5, 3, 8, 4, 5, 2, 6, 1, 7, 5, 3, 8, 4]] prediction str:  if you want you\n",
            "120 loss:  0.8103024363517761 prediction:  [[0 9 5 3 8 4 5 2 6 1 7 5 3 8 4]] true Y:  [[0, 9, 5, 3, 8, 4, 5, 2, 6, 1, 7, 5, 3, 8, 4]] prediction str:  if you want you\n",
            "121 loss:  0.8102619647979736 prediction:  [[0 9 5 3 8 4 5 2 6 1 7 5 3 8 4]] true Y:  [[0, 9, 5, 3, 8, 4, 5, 2, 6, 1, 7, 5, 3, 8, 4]] prediction str:  if you want you\n",
            "122 loss:  0.8102219104766846 prediction:  [[0 9 5 3 8 4 5 2 6 1 7 5 3 8 4]] true Y:  [[0, 9, 5, 3, 8, 4, 5, 2, 6, 1, 7, 5, 3, 8, 4]] prediction str:  if you want you\n",
            "123 loss:  0.8101822733879089 prediction:  [[0 9 5 3 8 4 5 2 6 1 7 5 3 8 4]] true Y:  [[0, 9, 5, 3, 8, 4, 5, 2, 6, 1, 7, 5, 3, 8, 4]] prediction str:  if you want you\n",
            "124 loss:  0.8101427555084229 prediction:  [[0 9 5 3 8 4 5 2 6 1 7 5 3 8 4]] true Y:  [[0, 9, 5, 3, 8, 4, 5, 2, 6, 1, 7, 5, 3, 8, 4]] prediction str:  if you want you\n",
            "125 loss:  0.8101039528846741 prediction:  [[0 9 5 3 8 4 5 2 6 1 7 5 3 8 4]] true Y:  [[0, 9, 5, 3, 8, 4, 5, 2, 6, 1, 7, 5, 3, 8, 4]] prediction str:  if you want you\n",
            "126 loss:  0.8100652098655701 prediction:  [[0 9 5 3 8 4 5 2 6 1 7 5 3 8 4]] true Y:  [[0, 9, 5, 3, 8, 4, 5, 2, 6, 1, 7, 5, 3, 8, 4]] prediction str:  if you want you\n",
            "127 loss:  0.8100267648696899 prediction:  [[0 9 5 3 8 4 5 2 6 1 7 5 3 8 4]] true Y:  [[0, 9, 5, 3, 8, 4, 5, 2, 6, 1, 7, 5, 3, 8, 4]] prediction str:  if you want you\n",
            "128 loss:  0.8099887371063232 prediction:  [[0 9 5 3 8 4 5 2 6 1 7 5 3 8 4]] true Y:  [[0, 9, 5, 3, 8, 4, 5, 2, 6, 1, 7, 5, 3, 8, 4]] prediction str:  if you want you\n",
            "129 loss:  0.8099508881568909 prediction:  [[0 9 5 3 8 4 5 2 6 1 7 5 3 8 4]] true Y:  [[0, 9, 5, 3, 8, 4, 5, 2, 6, 1, 7, 5, 3, 8, 4]] prediction str:  if you want you\n",
            "130 loss:  0.8099135160446167 prediction:  [[0 9 5 3 8 4 5 2 6 1 7 5 3 8 4]] true Y:  [[0, 9, 5, 3, 8, 4, 5, 2, 6, 1, 7, 5, 3, 8, 4]] prediction str:  if you want you\n",
            "131 loss:  0.8098763823509216 prediction:  [[0 9 5 3 8 4 5 2 6 1 7 5 3 8 4]] true Y:  [[0, 9, 5, 3, 8, 4, 5, 2, 6, 1, 7, 5, 3, 8, 4]] prediction str:  if you want you\n",
            "132 loss:  0.8098394870758057 prediction:  [[0 9 5 3 8 4 5 2 6 1 7 5 3 8 4]] true Y:  [[0, 9, 5, 3, 8, 4, 5, 2, 6, 1, 7, 5, 3, 8, 4]] prediction str:  if you want you\n",
            "133 loss:  0.8098028898239136 prediction:  [[0 9 5 3 8 4 5 2 6 1 7 5 3 8 4]] true Y:  [[0, 9, 5, 3, 8, 4, 5, 2, 6, 1, 7, 5, 3, 8, 4]] prediction str:  if you want you\n",
            "134 loss:  0.8097666501998901 prediction:  [[0 9 5 3 8 4 5 2 6 1 7 5 3 8 4]] true Y:  [[0, 9, 5, 3, 8, 4, 5, 2, 6, 1, 7, 5, 3, 8, 4]] prediction str:  if you want you\n",
            "135 loss:  0.8097306489944458 prediction:  [[0 9 5 3 8 4 5 2 6 1 7 5 3 8 4]] true Y:  [[0, 9, 5, 3, 8, 4, 5, 2, 6, 1, 7, 5, 3, 8, 4]] prediction str:  if you want you\n",
            "136 loss:  0.8096950054168701 prediction:  [[0 9 5 3 8 4 5 2 6 1 7 5 3 8 4]] true Y:  [[0, 9, 5, 3, 8, 4, 5, 2, 6, 1, 7, 5, 3, 8, 4]] prediction str:  if you want you\n",
            "137 loss:  0.8096595406532288 prediction:  [[0 9 5 3 8 4 5 2 6 1 7 5 3 8 4]] true Y:  [[0, 9, 5, 3, 8, 4, 5, 2, 6, 1, 7, 5, 3, 8, 4]] prediction str:  if you want you\n",
            "138 loss:  0.8096243739128113 prediction:  [[0 9 5 3 8 4 5 2 6 1 7 5 3 8 4]] true Y:  [[0, 9, 5, 3, 8, 4, 5, 2, 6, 1, 7, 5, 3, 8, 4]] prediction str:  if you want you\n",
            "139 loss:  0.8095895648002625 prediction:  [[0 9 5 3 8 4 5 2 6 1 7 5 3 8 4]] true Y:  [[0, 9, 5, 3, 8, 4, 5, 2, 6, 1, 7, 5, 3, 8, 4]] prediction str:  if you want you\n",
            "140 loss:  0.809554934501648 prediction:  [[0 9 5 3 8 4 5 2 6 1 7 5 3 8 4]] true Y:  [[0, 9, 5, 3, 8, 4, 5, 2, 6, 1, 7, 5, 3, 8, 4]] prediction str:  if you want you\n",
            "141 loss:  0.8095206618309021 prediction:  [[0 9 5 3 8 4 5 2 6 1 7 5 3 8 4]] true Y:  [[0, 9, 5, 3, 8, 4, 5, 2, 6, 1, 7, 5, 3, 8, 4]] prediction str:  if you want you\n",
            "142 loss:  0.8094865679740906 prediction:  [[0 9 5 3 8 4 5 2 6 1 7 5 3 8 4]] true Y:  [[0, 9, 5, 3, 8, 4, 5, 2, 6, 1, 7, 5, 3, 8, 4]] prediction str:  if you want you\n",
            "143 loss:  0.8094527125358582 prediction:  [[0 9 5 3 8 4 5 2 6 1 7 5 3 8 4]] true Y:  [[0, 9, 5, 3, 8, 4, 5, 2, 6, 1, 7, 5, 3, 8, 4]] prediction str:  if you want you\n",
            "144 loss:  0.8094190955162048 prediction:  [[0 9 5 3 8 4 5 2 6 1 7 5 3 8 4]] true Y:  [[0, 9, 5, 3, 8, 4, 5, 2, 6, 1, 7, 5, 3, 8, 4]] prediction str:  if you want you\n",
            "145 loss:  0.8093858957290649 prediction:  [[0 9 5 3 8 4 5 2 6 1 7 5 3 8 4]] true Y:  [[0, 9, 5, 3, 8, 4, 5, 2, 6, 1, 7, 5, 3, 8, 4]] prediction str:  if you want you\n",
            "146 loss:  0.8093527555465698 prediction:  [[0 9 5 3 8 4 5 2 6 1 7 5 3 8 4]] true Y:  [[0, 9, 5, 3, 8, 4, 5, 2, 6, 1, 7, 5, 3, 8, 4]] prediction str:  if you want you\n",
            "147 loss:  0.8093199133872986 prediction:  [[0 9 5 3 8 4 5 2 6 1 7 5 3 8 4]] true Y:  [[0, 9, 5, 3, 8, 4, 5, 2, 6, 1, 7, 5, 3, 8, 4]] prediction str:  if you want you\n",
            "148 loss:  0.8092873096466064 prediction:  [[0 9 5 3 8 4 5 2 6 1 7 5 3 8 4]] true Y:  [[0, 9, 5, 3, 8, 4, 5, 2, 6, 1, 7, 5, 3, 8, 4]] prediction str:  if you want you\n",
            "149 loss:  0.8092551827430725 prediction:  [[0 9 5 3 8 4 5 2 6 1 7 5 3 8 4]] true Y:  [[0, 9, 5, 3, 8, 4, 5, 2, 6, 1, 7, 5, 3, 8, 4]] prediction str:  if you want you\n"
          ],
          "name": "stdout"
        }
      ]
    },
    {
      "cell_type": "code",
      "metadata": {
        "id": "xHJYNQmBxB40",
        "colab_type": "code",
        "colab": {}
      },
      "source": [
        ""
      ],
      "execution_count": 0,
      "outputs": []
    }
  ]
}