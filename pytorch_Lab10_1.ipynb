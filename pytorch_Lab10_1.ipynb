{
  "nbformat": 4,
  "nbformat_minor": 0,
  "metadata": {
    "colab": {
      "name": "pytorch_Lab10_01.ipynb",
      "provenance": []
    },
    "kernelspec": {
      "name": "python3",
      "display_name": "Python 3"
    },
    "accelerator": "GPU"
  },
  "cells": [
    {
      "cell_type": "code",
      "metadata": {
        "id": "HQ4mI1A4mGC8",
        "colab_type": "code",
        "colab": {}
      },
      "source": [
        "import torch\n",
        "import torch.nn as nn\n",
        "import torch.nn.functional as F\n",
        "import torch.optim as optim\n",
        "import torchvision.datasets as dsets\n",
        "import torchvision.transforms as transforms\n",
        "import numpy as np"
      ],
      "execution_count": 0,
      "outputs": []
    },
    {
      "cell_type": "code",
      "metadata": {
        "id": "rPGRbsW7nHEU",
        "colab_type": "code",
        "colab": {
          "base_uri": "https://localhost:8080/",
          "height": 34
        },
        "outputId": "00c9fb62-bfba-49f6-92ee-fa2113ae7904"
      },
      "source": [
        "conv=nn.Conv2d(1, 1, 11, stride=4, padding=0)\n",
        "conv\n",
        "inputs=torch.Tensor(1,1, 227, 227)\n",
        "out=conv(inputs)\n",
        "out.shape"
      ],
      "execution_count": 2,
      "outputs": [
        {
          "output_type": "execute_result",
          "data": {
            "text/plain": [
              "torch.Size([1, 1, 55, 55])"
            ]
          },
          "metadata": {
            "tags": []
          },
          "execution_count": 2
        }
      ]
    },
    {
      "cell_type": "code",
      "metadata": {
        "id": "FvhED8PJqOzb",
        "colab_type": "code",
        "colab": {
          "base_uri": "https://localhost:8080/",
          "height": 34
        },
        "outputId": "da7ad125-0414-4655-e046-b5e22bbce99c"
      },
      "source": [
        "conv=nn.Conv2d(1, 1, 7, stride=2, padding=0)\n",
        "conv\n",
        "inputs=torch.Tensor(1,1, 64, 64)\n",
        "out=conv(inputs)\n",
        "out.shape"
      ],
      "execution_count": 3,
      "outputs": [
        {
          "output_type": "execute_result",
          "data": {
            "text/plain": [
              "torch.Size([1, 1, 29, 29])"
            ]
          },
          "metadata": {
            "tags": []
          },
          "execution_count": 3
        }
      ]
    },
    {
      "cell_type": "code",
      "metadata": {
        "id": "OqbFm1Yjq06F",
        "colab_type": "code",
        "colab": {
          "base_uri": "https://localhost:8080/",
          "height": 34
        },
        "outputId": "dab32601-1fbd-44d0-9f31-79839bb720a7"
      },
      "source": [
        "conv=nn.Conv2d(1, 1, 5, stride=1, padding=2)\n",
        "inputs=torch.Tensor(1,1, 32, 32)\n",
        "out=conv(inputs)\n",
        "out.shape "
      ],
      "execution_count": 4,
      "outputs": [
        {
          "output_type": "execute_result",
          "data": {
            "text/plain": [
              "torch.Size([1, 1, 32, 32])"
            ]
          },
          "metadata": {
            "tags": []
          },
          "execution_count": 4
        }
      ]
    },
    {
      "cell_type": "code",
      "metadata": {
        "id": "oeVsV_Hvq3aU",
        "colab_type": "code",
        "colab": {
          "base_uri": "https://localhost:8080/",
          "height": 34
        },
        "outputId": "bd8f8317-36a5-4994-d7ed-08ee32905e64"
      },
      "source": [
        "conv=nn.Conv2d(1, 1, 5, stride=1, padding=0)\n",
        "inputs=torch.Tensor(1,1,32, 64)\n",
        "out=conv(inputs)\n",
        "out.shape"
      ],
      "execution_count": 5,
      "outputs": [
        {
          "output_type": "execute_result",
          "data": {
            "text/plain": [
              "torch.Size([1, 1, 28, 60])"
            ]
          },
          "metadata": {
            "tags": []
          },
          "execution_count": 5
        }
      ]
    },
    {
      "cell_type": "code",
      "metadata": {
        "id": "p_k5C2zAsBaO",
        "colab_type": "code",
        "colab": {
          "base_uri": "https://localhost:8080/",
          "height": 34
        },
        "outputId": "fe5ccc95-023b-407e-915d-f05a3df5946b"
      },
      "source": [
        "conv=nn.Conv2d(1, 1, 3, stride=1, padding=1)\n",
        "inputs=torch.Tensor(1, 1, 64, 32)\n",
        "out=conv(inputs)\n",
        "out.shape"
      ],
      "execution_count": 6,
      "outputs": [
        {
          "output_type": "execute_result",
          "data": {
            "text/plain": [
              "torch.Size([1, 1, 64, 32])"
            ]
          },
          "metadata": {
            "tags": []
          },
          "execution_count": 6
        }
      ]
    },
    {
      "cell_type": "code",
      "metadata": {
        "id": "-CMhVh4nsSXD",
        "colab_type": "code",
        "colab": {
          "base_uri": "https://localhost:8080/",
          "height": 34
        },
        "outputId": "253424ff-978c-4ef6-a441-7e7416123cc7"
      },
      "source": [
        "inputs=torch.Tensor(1, 1, 28, 28)\n",
        "conv1=nn.Conv2d(1, 5, 5)\n",
        "pool=nn.MaxPool2d(2)\n",
        "out=conv1(inputs)\n",
        "out2=pool(out)\n",
        "out.size()\n",
        "out2.size()"
      ],
      "execution_count": 9,
      "outputs": [
        {
          "output_type": "execute_result",
          "data": {
            "text/plain": [
              "torch.Size([1, 5, 12, 12])"
            ]
          },
          "metadata": {
            "tags": []
          },
          "execution_count": 9
        }
      ]
    },
    {
      "cell_type": "code",
      "metadata": {
        "id": "vu8NAsuGuAi4",
        "colab_type": "code",
        "colab": {}
      },
      "source": [
        ""
      ],
      "execution_count": 0,
      "outputs": []
    }
  ]
}