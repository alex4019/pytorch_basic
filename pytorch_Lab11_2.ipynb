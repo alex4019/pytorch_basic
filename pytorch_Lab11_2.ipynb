{
  "nbformat": 4,
  "nbformat_minor": 0,
  "metadata": {
    "colab": {
      "name": "pytorch_Lab11_2.ipynb",
      "provenance": []
    },
    "kernelspec": {
      "name": "python3",
      "display_name": "Python 3"
    },
    "accelerator": "GPU"
  },
  "cells": [
    {
      "cell_type": "code",
      "metadata": {
        "id": "Y7d4lc0BWPNc",
        "colab_type": "code",
        "colab": {}
      },
      "source": [
        "import torch\n",
        "import torch.optim as optim\n",
        "import numpy as np"
      ],
      "execution_count": 0,
      "outputs": []
    },
    {
      "cell_type": "code",
      "metadata": {
        "id": "Vrn-FzhsWZ_I",
        "colab_type": "code",
        "colab": {
          "base_uri": "https://localhost:8080/",
          "height": 34
        },
        "outputId": "94616257-be7e-41e3-b5cf-f66b2349f45d"
      },
      "source": [
        "torch.manual_seed(0)"
      ],
      "execution_count": 36,
      "outputs": [
        {
          "output_type": "execute_result",
          "data": {
            "text/plain": [
              "<torch._C.Generator at 0x7efe1e136e70>"
            ]
          },
          "metadata": {
            "tags": []
          },
          "execution_count": 36
        }
      ]
    },
    {
      "cell_type": "code",
      "metadata": {
        "id": "t_xOSZrsWccL",
        "colab_type": "code",
        "colab": {}
      },
      "source": [
        "char_set=['h', 'i', 'e', 'l', 'o']"
      ],
      "execution_count": 0,
      "outputs": []
    },
    {
      "cell_type": "code",
      "metadata": {
        "id": "dbk2pZnWnt6P",
        "colab_type": "code",
        "colab": {}
      },
      "source": [
        "input_size=len(char_set)\n",
        "hidden_size=len(char_set)\n",
        "learning_rate=0.1"
      ],
      "execution_count": 0,
      "outputs": []
    },
    {
      "cell_type": "code",
      "metadata": {
        "id": "y-wn_oHCn1uK",
        "colab_type": "code",
        "colab": {}
      },
      "source": [
        "x_data = [[0, 1, 0, 2, 3, 3]]\n",
        "x_one_hot = [[[1, 0, 0, 0, 0],\n",
        "              [0, 1, 0, 0, 0],\n",
        "              [1, 0, 0, 0, 0],\n",
        "              [0, 0, 1, 0, 0],\n",
        "              [0, 0, 0, 1, 0],\n",
        "              [0, 0, 0, 1, 0]]]\n",
        "y_data = [[1, 0, 2, 3, 3, 4]]"
      ],
      "execution_count": 0,
      "outputs": []
    },
    {
      "cell_type": "code",
      "metadata": {
        "id": "qJKLvQH3pSJ6",
        "colab_type": "code",
        "colab": {}
      },
      "source": [
        "X=torch.FloatTensor(x_one_hot)\n",
        "Y=torch.LongTensor(y_data)"
      ],
      "execution_count": 0,
      "outputs": []
    },
    {
      "cell_type": "code",
      "metadata": {
        "id": "HRDPMhfeqzpC",
        "colab_type": "code",
        "colab": {}
      },
      "source": [
        "rnn=torch.nn.RNN(input_size, hidden_size, batch_first=True)\n",
        "criterion=torch.nn.CrossEntropyLoss()\n",
        "optimizer=optim.Adam(rnn.parameters(), lr=learning_rate)"
      ],
      "execution_count": 0,
      "outputs": []
    },
    {
      "cell_type": "code",
      "metadata": {
        "id": "odtBsYutsZLi",
        "colab_type": "code",
        "colab": {
          "base_uri": "https://localhost:8080/",
          "height": 1000
        },
        "outputId": "7486b163-76a4-430b-ce54-6fa6d42c99de"
      },
      "source": [
        "for i in range(100):\n",
        "  optimizer.zero_grad()\n",
        "  outputs, _status=rnn(X)\n",
        "  loss=criterion(outputs.view(-1, input_size), Y.view(-1))\n",
        "  loss.backward()\n",
        "  optimizer.step()\n",
        "  result=outputs.data.numpy().argmax(axis=2)\n",
        "  result_str=''.join([char_set[c] for c in np.squeeze(result)])\n",
        "  print(i, \"loss: \", loss.item(), \"prediction\", result, \"true Y\", y_data, \"prediction str:\", result_str)"
      ],
      "execution_count": 14,
      "outputs": [
        {
          "output_type": "stream",
          "text": [
            "0 loss:  1.6738981008529663 prediction [[0 0 0 3 0 0]] true Y [[1, 0, 2, 3, 3, 4]] prediction str: hhhlhh\n",
            "1 loss:  1.5152612924575806 prediction [[3 0 3 3 3 3]] true Y [[1, 0, 2, 3, 3, 4]] prediction str: lhllll\n",
            "2 loss:  1.3541597127914429 prediction [[2 0 3 3 3 3]] true Y [[1, 0, 2, 3, 3, 4]] prediction str: ehllll\n",
            "3 loss:  1.211991310119629 prediction [[1 0 2 3 3 3]] true Y [[1, 0, 2, 3, 3, 4]] prediction str: ihelll\n",
            "4 loss:  1.0867024660110474 prediction [[1 0 2 3 3 4]] true Y [[1, 0, 2, 3, 3, 4]] prediction str: ihello\n",
            "5 loss:  0.9869017004966736 prediction [[1 0 2 3 3 4]] true Y [[1, 0, 2, 3, 3, 4]] prediction str: ihello\n",
            "6 loss:  0.8826098442077637 prediction [[1 0 2 3 3 4]] true Y [[1, 0, 2, 3, 3, 4]] prediction str: ihello\n",
            "7 loss:  0.8154295086860657 prediction [[1 0 2 3 3 4]] true Y [[1, 0, 2, 3, 3, 4]] prediction str: ihello\n",
            "8 loss:  0.751086950302124 prediction [[1 0 2 3 3 4]] true Y [[1, 0, 2, 3, 3, 4]] prediction str: ihello\n",
            "9 loss:  0.7167952060699463 prediction [[1 0 2 3 3 4]] true Y [[1, 0, 2, 3, 3, 4]] prediction str: ihello\n",
            "10 loss:  0.676777184009552 prediction [[1 0 2 3 3 4]] true Y [[1, 0, 2, 3, 3, 4]] prediction str: ihello\n",
            "11 loss:  0.6554201245307922 prediction [[1 0 2 3 3 4]] true Y [[1, 0, 2, 3, 3, 4]] prediction str: ihello\n",
            "12 loss:  0.6338043808937073 prediction [[1 0 2 3 3 4]] true Y [[1, 0, 2, 3, 3, 4]] prediction str: ihello\n",
            "13 loss:  0.6118649840354919 prediction [[1 0 2 3 3 4]] true Y [[1, 0, 2, 3, 3, 4]] prediction str: ihello\n",
            "14 loss:  0.5952132940292358 prediction [[1 0 2 3 3 4]] true Y [[1, 0, 2, 3, 3, 4]] prediction str: ihello\n",
            "15 loss:  0.5830639004707336 prediction [[1 0 2 3 3 4]] true Y [[1, 0, 2, 3, 3, 4]] prediction str: ihello\n",
            "16 loss:  0.5711646676063538 prediction [[1 0 2 3 3 4]] true Y [[1, 0, 2, 3, 3, 4]] prediction str: ihello\n",
            "17 loss:  0.5573754906654358 prediction [[1 0 2 3 3 4]] true Y [[1, 0, 2, 3, 3, 4]] prediction str: ihello\n",
            "18 loss:  0.5443680286407471 prediction [[1 0 2 3 3 4]] true Y [[1, 0, 2, 3, 3, 4]] prediction str: ihello\n",
            "19 loss:  0.5391058921813965 prediction [[1 0 2 3 3 4]] true Y [[1, 0, 2, 3, 3, 4]] prediction str: ihello\n",
            "20 loss:  0.5331839919090271 prediction [[1 0 2 3 3 4]] true Y [[1, 0, 2, 3, 3, 4]] prediction str: ihello\n",
            "21 loss:  0.5239092707633972 prediction [[1 0 2 3 3 4]] true Y [[1, 0, 2, 3, 3, 4]] prediction str: ihello\n",
            "22 loss:  0.5229505896568298 prediction [[1 0 2 3 3 4]] true Y [[1, 0, 2, 3, 3, 4]] prediction str: ihello\n",
            "23 loss:  0.5194993019104004 prediction [[1 0 2 3 3 4]] true Y [[1, 0, 2, 3, 3, 4]] prediction str: ihello\n",
            "24 loss:  0.5125999450683594 prediction [[1 0 2 3 3 4]] true Y [[1, 0, 2, 3, 3, 4]] prediction str: ihello\n",
            "25 loss:  0.5117637515068054 prediction [[1 0 2 3 3 4]] true Y [[1, 0, 2, 3, 3, 4]] prediction str: ihello\n",
            "26 loss:  0.5080029368400574 prediction [[1 0 2 3 3 4]] true Y [[1, 0, 2, 3, 3, 4]] prediction str: ihello\n",
            "27 loss:  0.5035806894302368 prediction [[1 0 2 3 3 4]] true Y [[1, 0, 2, 3, 3, 4]] prediction str: ihello\n",
            "28 loss:  0.5031010508537292 prediction [[1 0 2 3 3 4]] true Y [[1, 0, 2, 3, 3, 4]] prediction str: ihello\n",
            "29 loss:  0.5005918741226196 prediction [[1 0 2 3 3 4]] true Y [[1, 0, 2, 3, 3, 4]] prediction str: ihello\n",
            "30 loss:  0.4973656237125397 prediction [[1 0 2 3 3 4]] true Y [[1, 0, 2, 3, 3, 4]] prediction str: ihello\n",
            "31 loss:  0.49682554602622986 prediction [[1 0 2 3 3 4]] true Y [[1, 0, 2, 3, 3, 4]] prediction str: ihello\n",
            "32 loss:  0.49586042761802673 prediction [[1 0 2 3 3 4]] true Y [[1, 0, 2, 3, 3, 4]] prediction str: ihello\n",
            "33 loss:  0.49353131651878357 prediction [[1 0 2 3 3 4]] true Y [[1, 0, 2, 3, 3, 4]] prediction str: ihello\n",
            "34 loss:  0.4927959740161896 prediction [[1 0 2 3 3 4]] true Y [[1, 0, 2, 3, 3, 4]] prediction str: ihello\n",
            "35 loss:  0.49206605553627014 prediction [[1 0 2 3 3 4]] true Y [[1, 0, 2, 3, 3, 4]] prediction str: ihello\n",
            "36 loss:  0.49024006724357605 prediction [[1 0 2 3 3 4]] true Y [[1, 0, 2, 3, 3, 4]] prediction str: ihello\n",
            "37 loss:  0.4888433516025543 prediction [[1 0 2 3 3 4]] true Y [[1, 0, 2, 3, 3, 4]] prediction str: ihello\n",
            "38 loss:  0.48863208293914795 prediction [[1 0 2 3 3 4]] true Y [[1, 0, 2, 3, 3, 4]] prediction str: ihello\n",
            "39 loss:  0.4873548746109009 prediction [[1 0 2 3 3 4]] true Y [[1, 0, 2, 3, 3, 4]] prediction str: ihello\n",
            "40 loss:  0.48655346035957336 prediction [[1 0 2 3 3 4]] true Y [[1, 0, 2, 3, 3, 4]] prediction str: ihello\n",
            "41 loss:  0.48640677332878113 prediction [[1 0 2 3 3 4]] true Y [[1, 0, 2, 3, 3, 4]] prediction str: ihello\n",
            "42 loss:  0.4854544699192047 prediction [[1 0 2 3 3 4]] true Y [[1, 0, 2, 3, 3, 4]] prediction str: ihello\n",
            "43 loss:  0.48463502526283264 prediction [[1 0 2 3 3 4]] true Y [[1, 0, 2, 3, 3, 4]] prediction str: ihello\n",
            "44 loss:  0.484407514333725 prediction [[1 0 2 3 3 4]] true Y [[1, 0, 2, 3, 3, 4]] prediction str: ihello\n",
            "45 loss:  0.4834085702896118 prediction [[1 0 2 3 3 4]] true Y [[1, 0, 2, 3, 3, 4]] prediction str: ihello\n",
            "46 loss:  0.4828251302242279 prediction [[1 0 2 3 3 4]] true Y [[1, 0, 2, 3, 3, 4]] prediction str: ihello\n",
            "47 loss:  0.48249709606170654 prediction [[1 0 2 3 3 4]] true Y [[1, 0, 2, 3, 3, 4]] prediction str: ihello\n",
            "48 loss:  0.4817723333835602 prediction [[1 0 2 3 3 4]] true Y [[1, 0, 2, 3, 3, 4]] prediction str: ihello\n",
            "49 loss:  0.4812902510166168 prediction [[1 0 2 3 3 4]] true Y [[1, 0, 2, 3, 3, 4]] prediction str: ihello\n",
            "50 loss:  0.4810713827610016 prediction [[1 0 2 3 3 4]] true Y [[1, 0, 2, 3, 3, 4]] prediction str: ihello\n",
            "51 loss:  0.480486661195755 prediction [[1 0 2 3 3 4]] true Y [[1, 0, 2, 3, 3, 4]] prediction str: ihello\n",
            "52 loss:  0.4800926744937897 prediction [[1 0 2 3 3 4]] true Y [[1, 0, 2, 3, 3, 4]] prediction str: ihello\n",
            "53 loss:  0.4798036813735962 prediction [[1 0 2 3 3 4]] true Y [[1, 0, 2, 3, 3, 4]] prediction str: ihello\n",
            "54 loss:  0.47927871346473694 prediction [[1 0 2 3 3 4]] true Y [[1, 0, 2, 3, 3, 4]] prediction str: ihello\n",
            "55 loss:  0.4788748323917389 prediction [[1 0 2 3 3 4]] true Y [[1, 0, 2, 3, 3, 4]] prediction str: ihello\n",
            "56 loss:  0.4786103069782257 prediction [[1 0 2 3 3 4]] true Y [[1, 0, 2, 3, 3, 4]] prediction str: ihello\n",
            "57 loss:  0.47816231846809387 prediction [[1 0 2 3 3 4]] true Y [[1, 0, 2, 3, 3, 4]] prediction str: ihello\n",
            "58 loss:  0.4778759479522705 prediction [[1 0 2 3 3 4]] true Y [[1, 0, 2, 3, 3, 4]] prediction str: ihello\n",
            "59 loss:  0.4776202142238617 prediction [[1 0 2 3 3 4]] true Y [[1, 0, 2, 3, 3, 4]] prediction str: ihello\n",
            "60 loss:  0.4772339165210724 prediction [[1 0 2 3 3 4]] true Y [[1, 0, 2, 3, 3, 4]] prediction str: ihello\n",
            "61 loss:  0.4769730269908905 prediction [[1 0 2 3 3 4]] true Y [[1, 0, 2, 3, 3, 4]] prediction str: ihello\n",
            "62 loss:  0.47668465971946716 prediction [[1 0 2 3 3 4]] true Y [[1, 0, 2, 3, 3, 4]] prediction str: ihello\n",
            "63 loss:  0.4763313829898834 prediction [[1 0 2 3 3 4]] true Y [[1, 0, 2, 3, 3, 4]] prediction str: ihello\n",
            "64 loss:  0.47609469294548035 prediction [[1 0 2 3 3 4]] true Y [[1, 0, 2, 3, 3, 4]] prediction str: ihello\n",
            "65 loss:  0.4758053719997406 prediction [[1 0 2 3 3 4]] true Y [[1, 0, 2, 3, 3, 4]] prediction str: ihello\n",
            "66 loss:  0.4755152463912964 prediction [[1 0 2 3 3 4]] true Y [[1, 0, 2, 3, 3, 4]] prediction str: ihello\n",
            "67 loss:  0.4753042161464691 prediction [[1 0 2 3 3 4]] true Y [[1, 0, 2, 3, 3, 4]] prediction str: ihello\n",
            "68 loss:  0.4750315248966217 prediction [[1 0 2 3 3 4]] true Y [[1, 0, 2, 3, 3, 4]] prediction str: ihello\n",
            "69 loss:  0.47478675842285156 prediction [[1 0 2 3 3 4]] true Y [[1, 0, 2, 3, 3, 4]] prediction str: ihello\n",
            "70 loss:  0.474569708108902 prediction [[1 0 2 3 3 4]] true Y [[1, 0, 2, 3, 3, 4]] prediction str: ihello\n",
            "71 loss:  0.47430577874183655 prediction [[1 0 2 3 3 4]] true Y [[1, 0, 2, 3, 3, 4]] prediction str: ihello\n",
            "72 loss:  0.4740809202194214 prediction [[1 0 2 3 3 4]] true Y [[1, 0, 2, 3, 3, 4]] prediction str: ihello\n",
            "73 loss:  0.4738605320453644 prediction [[1 0 2 3 3 4]] true Y [[1, 0, 2, 3, 3, 4]] prediction str: ihello\n",
            "74 loss:  0.47361910343170166 prediction [[1 0 2 3 3 4]] true Y [[1, 0, 2, 3, 3, 4]] prediction str: ihello\n",
            "75 loss:  0.4734201431274414 prediction [[1 0 2 3 3 4]] true Y [[1, 0, 2, 3, 3, 4]] prediction str: ihello\n",
            "76 loss:  0.4732036888599396 prediction [[1 0 2 3 3 4]] true Y [[1, 0, 2, 3, 3, 4]] prediction str: ihello\n",
            "77 loss:  0.472989946603775 prediction [[1 0 2 3 3 4]] true Y [[1, 0, 2, 3, 3, 4]] prediction str: ihello\n",
            "78 loss:  0.472799152135849 prediction [[1 0 2 3 3 4]] true Y [[1, 0, 2, 3, 3, 4]] prediction str: ihello\n",
            "79 loss:  0.47258487343788147 prediction [[1 0 2 3 3 4]] true Y [[1, 0, 2, 3, 3, 4]] prediction str: ihello\n",
            "80 loss:  0.47239065170288086 prediction [[1 0 2 3 3 4]] true Y [[1, 0, 2, 3, 3, 4]] prediction str: ihello\n",
            "81 loss:  0.47219738364219666 prediction [[1 0 2 3 3 4]] true Y [[1, 0, 2, 3, 3, 4]] prediction str: ihello\n",
            "82 loss:  0.4719972312450409 prediction [[1 0 2 3 3 4]] true Y [[1, 0, 2, 3, 3, 4]] prediction str: ihello\n",
            "83 loss:  0.4718177318572998 prediction [[1 0 2 3 3 4]] true Y [[1, 0, 2, 3, 3, 4]] prediction str: ihello\n",
            "84 loss:  0.47162893414497375 prediction [[1 0 2 3 3 4]] true Y [[1, 0, 2, 3, 3, 4]] prediction str: ihello\n",
            "85 loss:  0.47144797444343567 prediction [[1 0 2 3 3 4]] true Y [[1, 0, 2, 3, 3, 4]] prediction str: ihello\n",
            "86 loss:  0.47127410769462585 prediction [[1 0 2 3 3 4]] true Y [[1, 0, 2, 3, 3, 4]] prediction str: ihello\n",
            "87 loss:  0.47109255194664 prediction [[1 0 2 3 3 4]] true Y [[1, 0, 2, 3, 3, 4]] prediction str: ihello\n",
            "88 loss:  0.47092270851135254 prediction [[1 0 2 3 3 4]] true Y [[1, 0, 2, 3, 3, 4]] prediction str: ihello\n",
            "89 loss:  0.4707496166229248 prediction [[1 0 2 3 3 4]] true Y [[1, 0, 2, 3, 3, 4]] prediction str: ihello\n",
            "90 loss:  0.4705788791179657 prediction [[1 0 2 3 3 4]] true Y [[1, 0, 2, 3, 3, 4]] prediction str: ihello\n",
            "91 loss:  0.47041574120521545 prediction [[1 0 2 3 3 4]] true Y [[1, 0, 2, 3, 3, 4]] prediction str: ihello\n",
            "92 loss:  0.4702486991882324 prediction [[1 0 2 3 3 4]] true Y [[1, 0, 2, 3, 3, 4]] prediction str: ihello\n",
            "93 loss:  0.4700898230075836 prediction [[1 0 2 3 3 4]] true Y [[1, 0, 2, 3, 3, 4]] prediction str: ihello\n",
            "94 loss:  0.4699305593967438 prediction [[1 0 2 3 3 4]] true Y [[1, 0, 2, 3, 3, 4]] prediction str: ihello\n",
            "95 loss:  0.46977248787879944 prediction [[1 0 2 3 3 4]] true Y [[1, 0, 2, 3, 3, 4]] prediction str: ihello\n",
            "96 loss:  0.4696195423603058 prediction [[1 0 2 3 3 4]] true Y [[1, 0, 2, 3, 3, 4]] prediction str: ihello\n",
            "97 loss:  0.46946433186531067 prediction [[1 0 2 3 3 4]] true Y [[1, 0, 2, 3, 3, 4]] prediction str: ihello\n",
            "98 loss:  0.46931466460227966 prediction [[1 0 2 3 3 4]] true Y [[1, 0, 2, 3, 3, 4]] prediction str: ihello\n",
            "99 loss:  0.46916496753692627 prediction [[1 0 2 3 3 4]] true Y [[1, 0, 2, 3, 3, 4]] prediction str: ihello\n"
          ],
          "name": "stdout"
        }
      ]
    },
    {
      "cell_type": "code",
      "metadata": {
        "id": "mLGcN1vLvZi6",
        "colab_type": "code",
        "colab": {}
      },
      "source": [
        ""
      ],
      "execution_count": 0,
      "outputs": []
    }
  ]
}