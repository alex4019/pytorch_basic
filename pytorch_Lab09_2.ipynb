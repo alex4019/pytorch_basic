{
 "cells": [
  {
   "cell_type": "code",
   "execution_count": 1,
   "metadata": {},
   "outputs": [],
   "source": [
    "import torch\n",
    "import torch.nn as nn\n",
    "import torch.nn.functional as F\n",
    "import torch.optim as optim\n",
    "import torchvision.datasets as dsets\n",
    "import torchvision.transforms as transforms"
   ]
  },
  {
   "cell_type": "code",
   "execution_count": 2,
   "metadata": {},
   "outputs": [],
   "source": [
    "def xavier_uniform(tensor, gain=1):\n",
    "    fan_in, fan_out=_calculate_fan_in_and_fan_out(tensor)\n",
    "    std=gain * math.sqrt(2.0/(fan_in + fan_out))\n",
    "    a=math.sqrt(3.0) * st\n",
    "    with torch.no_gard():\n",
    "        return tensor.uniform_(-a, a)"
   ]
  },
  {
   "cell_type": "code",
   "execution_count": 4,
   "metadata": {},
   "outputs": [],
   "source": [
    "mnist_train=dsets.MNIST(root='/MNIST_data/', train=True, transform=transforms.ToTensor(),\n",
    "                       download=True)\n",
    "mnist_test=dsets.MNIST(root='/MNIST_data/', train=False, transform=transforms.ToTensor(),\n",
    "                        download=True)\n",
    "data_loader=torch.utils.data.DataLoader(dataset=mnist_train,\n",
    "                                       batch_size=100,\n",
    "                                       shuffle=True,\n",
    "                                       drop_last=True)"
   ]
  },
  {
   "cell_type": "code",
   "execution_count": 5,
   "metadata": {},
   "outputs": [],
   "source": [
    "learning_rate=0.001\n",
    "training_epochs=15\n",
    "batch_size=100\n",
    "\n",
    "linear1=nn.Linear(784, 256, bias=True)\n",
    "linear2=nn.Linear(256, 256, bias=True)\n",
    "linear3=nn.Linear(256, 10, bias=True)\n",
    "relu=nn.ReLU()\n",
    "\n",
    "nn.init.xavier_uniform_(linear1.weight)\n",
    "nn.init.xavier_uniform_(linear2.weight)\n",
    "nn.init.xavier_uniform_(linear3.weight)\n",
    "model=nn.Sequential(linear1, relu ,linear2, relu,linear3)\n",
    "criterion = torch.nn.CrossEntropyLoss()\n",
    "optimizer=optim.Adam(model.parameters(), lr=learning_rate)"
   ]
  },
  {
   "cell_type": "code",
   "execution_count": 6,
   "metadata": {},
   "outputs": [
    {
     "name": "stdout",
     "output_type": "stream",
     "text": [
      "Epoch: 0001 cost = 0.245962739\n",
      "Epoch: 0002 cost = 0.090410903\n",
      "Epoch: 0003 cost = 0.059674844\n",
      "Epoch: 0004 cost = 0.041724600\n",
      "Epoch: 0005 cost = 0.031224338\n",
      "Epoch: 0006 cost = 0.025178388\n",
      "Epoch: 0007 cost = 0.018751672\n",
      "Epoch: 0008 cost = 0.017262967\n",
      "Epoch: 0009 cost = 0.015390147\n",
      "Epoch: 0010 cost = 0.015921012\n",
      "Epoch: 0011 cost = 0.012657310\n",
      "Epoch: 0012 cost = 0.011582956\n",
      "Epoch: 0013 cost = 0.011379583\n",
      "Epoch: 0014 cost = 0.009307411\n",
      "Epoch: 0015 cost = 0.010662124\n",
      "Learning finished\n"
     ]
    }
   ],
   "source": [
    "total_batch = len(data_loader)\n",
    "for epoch in range(training_epochs):\n",
    "    avg_cost = 0\n",
    "\n",
    "    for X, Y in data_loader:\n",
    "        # reshape input image into [batch_size by 784]\n",
    "        # label is not one-hot encoded\n",
    "        X = X.view(-1, 28 * 28)\n",
    "\n",
    "        optimizer.zero_grad()\n",
    "        hypothesis = model(X)\n",
    "        cost = criterion(hypothesis, Y)\n",
    "        cost.backward()\n",
    "        optimizer.step()\n",
    "\n",
    "        avg_cost += cost / total_batch\n",
    "\n",
    "    print('Epoch:', '%04d' % (epoch + 1), 'cost =', '{:.9f}'.format(avg_cost))\n",
    "\n",
    "print('Learning finished')"
   ]
  },
  {
   "cell_type": "code",
   "execution_count": null,
   "metadata": {},
   "outputs": [],
   "source": [
    "learning_rate=0.001\n",
    "training_epochs=15\n",
    "batch_size=100\n",
    "\n",
    "linear1=nn.Linear(784, 512, bias=True)\n",
    "linear2=nn.Linear(512, 512, bias=True)\n",
    "linear3=nn.Linear(512, 512, bias=True)\n",
    "linear4=nn.Linear(512, 512, bias=True)\n",
    "linear3=nn.Linear(512, 10, bias=True)\n",
    "relu=nn.ReLU()\n",
    "\n",
    "nn.init.xavier_uniform_(linear1.weight)\n",
    "nn.init.xavier_uniform_(linear2.weight)\n",
    "nn.init.xavier_uniform_(linear3.weight)\n",
    "nn.init.xavier_uniform_(linear4.weight)\n",
    "nn.init.xavier_uniform_(linear5.weight)\n",
    "model=nn.Sequential(linear1, relu ,linear2, relu,linear3)\n",
    "criterion = torch.nn.CrossEntropyLoss()\n",
    "optimizer=optim.Adam(model.parameters(), lr=learning_rate)"
   ]
  }
 ],
 "metadata": {
  "kernelspec": {
   "display_name": "Python 3",
   "language": "python",
   "name": "python3"
  },
  "language_info": {
   "codemirror_mode": {
    "name": "ipython",
    "version": 3
   },
   "file_extension": ".py",
   "mimetype": "text/x-python",
   "name": "python",
   "nbconvert_exporter": "python",
   "pygments_lexer": "ipython3",
   "version": "3.7.4"
  }
 },
 "nbformat": 4,
 "nbformat_minor": 4
}
