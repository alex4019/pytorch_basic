{
 "cells": [
  {
   "cell_type": "code",
   "execution_count": 1,
   "metadata": {},
   "outputs": [],
   "source": [
    "import torch\n",
    "import torch.nn as nn\n",
    "import torch.optim as optim\n",
    "import torch.nn.functional as F\n",
    "import torchvision.datasets as dsets\n",
    "import torchvision.transforms as transforms"
   ]
  },
  {
   "cell_type": "code",
   "execution_count": 2,
   "metadata": {},
   "outputs": [],
   "source": [
    "mnist_train=dsets.MNIST(root='/MNIST_data/', train=True, transform=transforms.ToTensor(),\n",
    "                       download=True)\n",
    "mnist_test=dsets.MNIST(root='/MNIST_data/', train=False, transform=transforms.ToTensor(),\n",
    "                        download=True)\n",
    "data_loader=torch.utils.data.DataLoader(dataset=mnist_train,\n",
    "                                       batch_size=100,\n",
    "                                       shuffle=True,\n",
    "                                       drop_last=True)"
   ]
  },
  {
   "cell_type": "code",
   "execution_count": 10,
   "metadata": {},
   "outputs": [],
   "source": [
    "import random\n",
    "learning_rate=0.001\n",
    "training_epochs=15\n",
    "batch_size=100\n",
    "drop_prob=0.3\n",
    "linear1=nn.Linear(784, 512, bias=True)\n",
    "linear2=nn.Linear(512, 512, bias=True)\n",
    "linear3=nn.Linear(512, 512, bias=True)\n",
    "linear4=nn.Linear(512, 512, bias=True)\n",
    "linear5=nn.Linear(512, 10, bias=True)\n",
    "relu=nn.ReLU()\n",
    "dropout = torch.nn.Dropout(p=drop_prob)\n",
    "\n",
    "nn.init.xavier_uniform_(linear1.weight)\n",
    "nn.init.xavier_uniform_(linear2.weight)\n",
    "nn.init.xavier_uniform_(linear3.weight)\n",
    "nn.init.xavier_uniform_(linear4.weight)\n",
    "nn.init.xavier_uniform_(linear5.weight)\n",
    "model=nn.Sequential(linear1, relu, dropout,\n",
    "                   linear2, relu, dropout,\n",
    "                   linear3, relu, dropout,\n",
    "                   linear4, relu, dropout,\n",
    "                   linear5, relu, dropout)\n",
    "criterion = torch.nn.CrossEntropyLoss()\n",
    "optimizer=optim.Adam(model.parameters(), lr=learning_rate)"
   ]
  },
  {
   "cell_type": "code",
   "execution_count": 11,
   "metadata": {},
   "outputs": [
    {
     "name": "stdout",
     "output_type": "stream",
     "text": [
      "Epoch: 0001 cost = 0.989784956\n",
      "Epoch: 0002 cost = 0.836923778\n",
      "Epoch: 0003 cost = 0.812662661\n",
      "Epoch: 0004 cost = 0.789192438\n",
      "Epoch: 0005 cost = 0.777876139\n",
      "Epoch: 0006 cost = 0.775667369\n",
      "Epoch: 0007 cost = 0.771541774\n",
      "Epoch: 0008 cost = 0.759845734\n",
      "Epoch: 0009 cost = 0.760722041\n",
      "Epoch: 0010 cost = 0.755400777\n",
      "Epoch: 0011 cost = 0.756362259\n",
      "Epoch: 0012 cost = 0.753583729\n",
      "Epoch: 0013 cost = 0.744725227\n",
      "Epoch: 0014 cost = 0.732196987\n",
      "Epoch: 0015 cost = 0.738741517\n",
      "Learning finished\n"
     ]
    }
   ],
   "source": [
    "total_batch = len(data_loader)\n",
    "for epoch in range(training_epochs):\n",
    "    avg_cost = 0\n",
    "\n",
    "    for X, Y in data_loader:\n",
    "        # reshape input image into [batch_size by 784]\n",
    "        # label is not one-hot encoded\n",
    "        X = X.view(-1, 28 * 28)\n",
    "\n",
    "        optimizer.zero_grad()\n",
    "        hypothesis = model(X)\n",
    "        cost = criterion(hypothesis, Y)\n",
    "        cost.backward()\n",
    "        optimizer.step()\n",
    "\n",
    "        avg_cost += cost / total_batch\n",
    "\n",
    "    print('Epoch:', '%04d' % (epoch + 1), 'cost =', '{:.9f}'.format(avg_cost))\n",
    "\n",
    "print('Learning finished')"
   ]
  },
  {
   "cell_type": "code",
   "execution_count": null,
   "metadata": {},
   "outputs": [],
   "source": []
  }
 ],
 "metadata": {
  "kernelspec": {
   "display_name": "Python 3",
   "language": "python",
   "name": "python3"
  },
  "language_info": {
   "codemirror_mode": {
    "name": "ipython",
    "version": 3
   },
   "file_extension": ".py",
   "mimetype": "text/x-python",
   "name": "python",
   "nbconvert_exporter": "python",
   "pygments_lexer": "ipython3",
   "version": "3.7.4"
  }
 },
 "nbformat": 4,
 "nbformat_minor": 4
}
