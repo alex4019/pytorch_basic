{
 "cells": [
  {
   "cell_type": "code",
   "execution_count": 1,
   "metadata": {},
   "outputs": [],
   "source": [
    "import torch\n",
    "import torchvision.datasets as dsets\n",
    "import torch.nn as nn\n",
    "import torch.nn.functional as F\n",
    "import torch.optim as optim\n",
    "import torchvision.transforms as transforms"
   ]
  },
  {
   "cell_type": "code",
   "execution_count": 2,
   "metadata": {},
   "outputs": [],
   "source": [
    "mnist_train=dsets.MNIST(root='/MNIST_data/', train=True, transform=transforms.ToTensor(),\n",
    "                       download=True)\n",
    "mnist_test=dsets.MNIST(root='/MNIST_data/', train=False, transform=transforms.ToTensor(),\n",
    "                        download=True)\n",
    "data_loader=torch.utils.data.DataLoader(dataset=mnist_train,\n",
    "                                       batch_size=100,\n",
    "                                       shuffle=True,\n",
    "                                       drop_last=True)"
   ]
  },
  {
   "cell_type": "code",
   "execution_count": 7,
   "metadata": {},
   "outputs": [],
   "source": [
    "learning_rate=0.001\n",
    "training_epochs=15\n",
    "batch_size=100\n",
    "\n",
    "linear=nn.Linear(784, 10, bias=True)\n",
    "nn.init.normal_(linear.weight)\n",
    "criterion=torch.nn.CrossEntropyLoss()\n",
    "optimizer=optim.Adam(linear.parameters(), lr=learning_rate)"
   ]
  },
  {
   "cell_type": "code",
   "execution_count": 9,
   "metadata": {},
   "outputs": [
    {
     "name": "stdout",
     "output_type": "stream",
     "text": [
      "Epoch: 0001 cost: 4.854725838\n",
      "Epoch: 0002 cost: 1.556249619\n",
      "Epoch: 0003 cost: 1.045104384\n",
      "Epoch: 0004 cost: 0.840728819\n",
      "Epoch: 0005 cost: 0.723794401\n",
      "Epoch: 0006 cost: 0.646788061\n",
      "Epoch: 0007 cost: 0.591372967\n",
      "Epoch: 0008 cost: 0.549144149\n",
      "Epoch: 0009 cost: 0.514991283\n",
      "Epoch: 0010 cost: 0.488162488\n",
      "Epoch: 0011 cost: 0.465255708\n",
      "Epoch: 0012 cost: 0.446358472\n",
      "Epoch: 0013 cost: 0.430345386\n",
      "Epoch: 0014 cost: 0.415910751\n",
      "Epoch: 0015 cost: 0.403741866\n"
     ]
    }
   ],
   "source": [
    "total_batch = len(data_loader)\n",
    "for epoch in range(training_epochs):\n",
    "    avg_cost=0\n",
    "    \n",
    "    for X, Y in data_loader:\n",
    "        X=X.view(-1, 28*28)\n",
    "        optimizer.zero_grad()\n",
    "        hypothesis=linear(X)\n",
    "        cost=criterion(hypothesis, Y)\n",
    "        cost.backward()\n",
    "        optimizer.step()\n",
    "        avg_cost +=cost/total_batch\n",
    "    print('Epoch:', \"%04d\" % (epoch +1), 'cost:', '{:.9f}'.format(avg_cost))"
   ]
  },
  {
   "cell_type": "code",
   "execution_count": 17,
   "metadata": {},
   "outputs": [],
   "source": [
    "learning_rate=0.001\n",
    "training_epochs=15\n",
    "batch_size=100\n",
    "\n",
    "linear1=nn.Linear(784, 256, bias=True)\n",
    "linear2=nn.Linear(256, 256, bias=True)\n",
    "linear3=nn.Linear(256, 10, bias=True)\n",
    "relu=nn.ReLU()\n",
    "\n",
    "nn.init.normal_(linear1.weight)\n",
    "nn.init.normal_(linear2.weight)\n",
    "nn.init.normal_(linear3.weight)\n",
    "model=nn.Sequential(linear1, relu ,linear2, relu,linear3)\n",
    "criterion = torch.nn.CrossEntropyLoss()\n",
    "optimizer=optim.Adam(model.parameters(), lr=learning_rate)"
   ]
  },
  {
   "cell_type": "code",
   "execution_count": 18,
   "metadata": {},
   "outputs": [
    {
     "name": "stdout",
     "output_type": "stream",
     "text": [
      "Epoch: 0001 cost = 160.599365234\n",
      "Epoch: 0002 cost = 36.749885559\n",
      "Epoch: 0003 cost = 23.005228043\n",
      "Epoch: 0004 cost = 15.831812859\n",
      "Epoch: 0005 cost = 11.430957794\n",
      "Epoch: 0006 cost = 8.302653313\n",
      "Epoch: 0007 cost = 6.129088402\n",
      "Epoch: 0008 cost = 4.573897362\n",
      "Epoch: 0009 cost = 3.367820740\n",
      "Epoch: 0010 cost = 2.484351158\n",
      "Epoch: 0011 cost = 1.924827814\n",
      "Epoch: 0012 cost = 1.459342837\n",
      "Epoch: 0013 cost = 1.118363976\n",
      "Epoch: 0014 cost = 0.859101474\n",
      "Epoch: 0015 cost = 0.672167718\n",
      "Learning finished\n"
     ]
    }
   ],
   "source": [
    "total_batch = len(data_loader)\n",
    "for epoch in range(training_epochs):\n",
    "    avg_cost = 0\n",
    "\n",
    "    for X, Y in data_loader:\n",
    "        # reshape input image into [batch_size by 784]\n",
    "        # label is not one-hot encoded\n",
    "        X = X.view(-1, 28 * 28)\n",
    "\n",
    "        optimizer.zero_grad()\n",
    "        hypothesis = model(X)\n",
    "        cost = criterion(hypothesis, Y)\n",
    "        cost.backward()\n",
    "        optimizer.step()\n",
    "\n",
    "        avg_cost += cost / total_batch\n",
    "\n",
    "    print('Epoch:', '%04d' % (epoch + 1), 'cost =', '{:.9f}'.format(avg_cost))\n",
    "\n",
    "print('Learning finished')"
   ]
  },
  {
   "cell_type": "code",
   "execution_count": 23,
   "metadata": {},
   "outputs": [
    {
     "name": "stdout",
     "output_type": "stream",
     "text": [
      "Accuracy: 0.9459999799728394\n",
      "Label:  7\n",
      "Prediction:  7\n"
     ]
    },
    {
     "data": {
      "image/png": "[encoded data removed]",
      "text/plain": [
       "<Figure size 432x288 with 1 Axes>"
      ]
     },
     "metadata": {
      "needs_background": "light"
     },
     "output_type": "display_data"
    }
   ],
   "source": [
    "import random\n",
    "import matplotlib.pyplot as plt\n",
    "with torch.no_grad():\n",
    "    X_test = mnist_test.test_data.view(-1, 28 * 28).float()\n",
    "    Y_test = mnist_test.test_labels\n",
    "\n",
    "    prediction = model(X_test)\n",
    "    correct_prediction = torch.argmax(prediction, 1) == Y_test\n",
    "    accuracy = correct_prediction.float().mean()\n",
    "    print('Accuracy:', accuracy.item())\n",
    "\n",
    "    # Get one and predict\n",
    "    r = random.randint(0, len(mnist_test) - 1)\n",
    "    X_single_data = mnist_test.test_data[r:r + 1].view(-1, 28 * 28).float()\n",
    "    Y_single_data = mnist_test.test_labels[r:r + 1]\n",
    "\n",
    "    print('Label: ', Y_single_data.item())\n",
    "    single_prediction = model(X_single_data)\n",
    "    print('Prediction: ', torch.argmax(single_prediction, 1).item())\n",
    "    plt.imshow(mnist_test.test_data[r:r + 1].view(28, 28), cmap='Greys', interpolation='nearest')\n",
    "    plt.show()"
   ]
  },
  {
   "cell_type": "code",
   "execution_count": null,
   "metadata": {},
   "outputs": [],
   "source": []
  }
 ],
 "metadata": {
  "kernelspec": {
   "display_name": "Python 3",
   "language": "python",
   "name": "python3"
  },
  "language_info": {
   "codemirror_mode": {
    "name": "ipython",
    "version": 3
   },
   "file_extension": ".py",
   "mimetype": "text/x-python",
   "name": "python",
   "nbconvert_exporter": "python",
   "pygments_lexer": "ipython3",
   "version": "3.7.4"
  }
 },
 "nbformat": 4,
 "nbformat_minor": 4
}
