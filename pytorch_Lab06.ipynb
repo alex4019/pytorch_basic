{
 "cells": [
  {
   "cell_type": "code",
   "execution_count": 1,
   "metadata": {},
   "outputs": [],
   "source": [
    "import torch\n",
    "import torch.nn as nn\n",
    "import torch.nn.functional as F\n",
    "import torch.optim as optim"
   ]
  },
  {
   "cell_type": "code",
   "execution_count": 2,
   "metadata": {},
   "outputs": [
    {
     "data": {
      "text/plain": [
       "<torch._C.Generator at 0x2be803262f0>"
      ]
     },
     "execution_count": 2,
     "metadata": {},
     "output_type": "execute_result"
    }
   ],
   "source": [
    "torch.manual_seed(1)"
   ]
  },
  {
   "cell_type": "code",
   "execution_count": 4,
   "metadata": {},
   "outputs": [
    {
     "name": "stdout",
     "output_type": "stream",
     "text": [
      "tensor([0.0900, 0.2447, 0.6652])\n"
     ]
    }
   ],
   "source": [
    "z=torch.FloatTensor([1,2,3])\n",
    "hypothesis=F.softmax(z, dim=0)\n",
    "print(hypothesis)"
   ]
  },
  {
   "cell_type": "code",
   "execution_count": 5,
   "metadata": {},
   "outputs": [
    {
     "data": {
      "text/plain": [
       "tensor(1.)"
      ]
     },
     "execution_count": 5,
     "metadata": {},
     "output_type": "execute_result"
    }
   ],
   "source": [
    "hypothesis.sum()"
   ]
  },
  {
   "cell_type": "code",
   "execution_count": 16,
   "metadata": {},
   "outputs": [
    {
     "name": "stdout",
     "output_type": "stream",
     "text": [
      "tensor([[0.3750, 0.1275, 0.0732, 0.2069, 0.2174],\n",
      "        [0.2843, 0.0757, 0.3436, 0.0719, 0.2244],\n",
      "        [0.2725, 0.0887, 0.1172, 0.3846, 0.1370]], grad_fn=<SoftmaxBackward>)\n"
     ]
    }
   ],
   "source": [
    "z=torch.randn(3,5, requires_grad=True)\n",
    "hypothesis=F.softmax(z, dim=1)\n",
    "print(hypothesis)"
   ]
  },
  {
   "cell_type": "code",
   "execution_count": 17,
   "metadata": {},
   "outputs": [
    {
     "name": "stdout",
     "output_type": "stream",
     "text": [
      "tensor([1, 1, 0])\n"
     ]
    }
   ],
   "source": [
    "y=torch.randint(5, (3,)).long()\n",
    "print(y)"
   ]
  },
  {
   "cell_type": "code",
   "execution_count": 19,
   "metadata": {},
   "outputs": [
    {
     "data": {
      "text/plain": [
       "tensor([[0., 1., 0., 0., 0.],\n",
       "        [0., 1., 0., 0., 0.],\n",
       "        [1., 0., 0., 0., 0.]])"
      ]
     },
     "execution_count": 19,
     "metadata": {},
     "output_type": "execute_result"
    }
   ],
   "source": [
    "y_one_hot=torch.zeros_like(hypothesis)\n",
    "y_one_hot.scatter_(1, y.unsqueeze(1),1)"
   ]
  },
  {
   "cell_type": "code",
   "execution_count": 24,
   "metadata": {},
   "outputs": [
    {
     "name": "stdout",
     "output_type": "stream",
     "text": [
      "tensor(1.9801, grad_fn=<NllLossBackward>)\n"
     ]
    }
   ],
   "source": [
    "cost=(y_one_hot * -torch.log(F.softmax(z, dim=1))).sum(dim=1).mean()\n",
    "cost=(y_one_hot * -F.log_softmax(z, dim=1)).sum(dim=1).mean()\n",
    "cost=F.nll_loss(F.log_softmax(z, dim=1), y)\n",
    "F.cross_entropy(z,y)\n",
    "print(cost)"
   ]
  },
  {
   "cell_type": "code",
   "execution_count": 42,
   "metadata": {},
   "outputs": [
    {
     "data": {
      "text/plain": [
       "tensor([2, 2, 2, 1, 1, 1, 0, 0])"
      ]
     },
     "execution_count": 42,
     "metadata": {},
     "output_type": "execute_result"
    }
   ],
   "source": [
    "x_train = [[1, 2, 1, 1],\n",
    "        [2, 1, 3, 2],\n",
    "        [3, 1, 3, 4],\n",
    "        [4, 1, 5, 5],\n",
    "        [1, 7, 5, 5],\n",
    "        [1, 2, 5, 6],\n",
    "        [1, 6, 6, 6],\n",
    "        [1, 7, 7, 7]]\n",
    "y_train = [2, 2, 2, 1, 1, 1, 0, 0]\n",
    "x_train = torch.FloatTensor(x_train)\n",
    "y_train = torch.LongTensor(y_train)\n",
    "y_train"
   ]
  },
  {
   "cell_type": "code",
   "execution_count": 46,
   "metadata": {},
   "outputs": [
    {
     "name": "stdout",
     "output_type": "stream",
     "text": [
      "Epoch    0/1000, Cost: 1.098612\n",
      "Epoch  100/1000, Cost: 0.901535\n",
      "Epoch  200/1000, Cost: 0.839114\n",
      "Epoch  300/1000, Cost: 0.807826\n",
      "Epoch  400/1000, Cost: 0.788472\n",
      "Epoch  500/1000, Cost: 0.774822\n",
      "Epoch  600/1000, Cost: 0.764449\n",
      "Epoch  700/1000, Cost: 0.756191\n",
      "Epoch  800/1000, Cost: 0.749398\n",
      "Epoch  900/1000, Cost: 0.743671\n",
      "Epoch 1000/1000, Cost: 0.738749\n"
     ]
    }
   ],
   "source": [
    "W = torch.zeros((4,3), requires_grad=True)\n",
    "b = torch.zeros(1, requires_grad=True)\n",
    "optimizer = optim.SGD([W, b], lr=0.1)\n",
    "nb_epochs=1000\n",
    "for epoch in range(nb_epochs+1):\n",
    "    hypothesis=F.softmax(x_train.matmul(W) + b, dim=1)\n",
    "    y_one_hot=torch.zeros_like(hypothesis)\n",
    "    y_one_hot.scatter_(1, y_train.unsqueeze(1), 1)\n",
    "    cost=(y_one_hot * -torch.log(F.softmax(hypothesis, dim=1))).sum(dim=1).mean()\n",
    "    optimizer.zero_grad()\n",
    "    cost.backward()\n",
    "    optimizer.step()\n",
    "    \n",
    "    \n",
    "    if epoch % 100 == 0:\n",
    "        print('Epoch {:4d}/{}, Cost: {:.6f}'.format(\n",
    "        epoch, nb_epochs, cost.item()\n",
    "        \n",
    "        ))"
   ]
  },
  {
   "cell_type": "code",
   "execution_count": 49,
   "metadata": {},
   "outputs": [
    {
     "name": "stdout",
     "output_type": "stream",
     "text": [
      "Epoch :    0/1000, Cost: 1.098612\n",
      "Epoch :  100/1000, Cost: 0.761050\n",
      "Epoch :  200/1000, Cost: 0.689991\n",
      "Epoch :  300/1000, Cost: 0.643229\n",
      "Epoch :  400/1000, Cost: 0.604117\n",
      "Epoch :  500/1000, Cost: 0.568255\n",
      "Epoch :  600/1000, Cost: 0.533922\n",
      "Epoch :  700/1000, Cost: 0.500291\n",
      "Epoch :  800/1000, Cost: 0.466908\n",
      "Epoch :  900/1000, Cost: 0.433506\n",
      "Epoch : 1000/1000, Cost: 0.399962\n"
     ]
    }
   ],
   "source": [
    "W = torch.zeros((4,3), requires_grad=True)\n",
    "b = torch.zeros(1, requires_grad=True)\n",
    "optimizer=optim.SGD([W,b], lr=0.1)\n",
    "nb_epochs=1000\n",
    "for epoch in range(nb_epochs+1):\n",
    "    z=x_train.matmul(W)+b\n",
    "    cost=F.cross_entropy(z, y_train)\n",
    "    \n",
    "    optimizer.zero_grad()\n",
    "    cost.backward()\n",
    "    optimizer.step()\n",
    "    \n",
    "    if epoch %100==0:\n",
    "        print('Epoch : {:4d}/{}, Cost: {:.6f}'.format(\n",
    "        epoch, nb_epochs, cost.item()\n",
    "        \n",
    "        ))"
   ]
  },
  {
   "cell_type": "code",
   "execution_count": 60,
   "metadata": {},
   "outputs": [
    {
     "name": "stdout",
     "output_type": "stream",
     "text": [
      "Epoch    0/1000, Cost: 1.961228\n",
      "Epoch  100/1000, Cost: 0.715961\n",
      "Epoch  200/1000, Cost: 0.639964\n",
      "Epoch  300/1000, Cost: 0.584711\n",
      "Epoch  400/1000, Cost: 0.535654\n",
      "Epoch  500/1000, Cost: 0.489070\n",
      "Epoch  600/1000, Cost: 0.443538\n",
      "Epoch  700/1000, Cost: 0.398372\n",
      "Epoch  800/1000, Cost: 0.353224\n",
      "Epoch  900/1000, Cost: 0.308175\n",
      "Epoch 1000/1000, Cost: 0.265126\n"
     ]
    }
   ],
   "source": [
    "class SoftmaxClassifierModel(nn.Module):\n",
    "    def __init__(self):\n",
    "        super().__init__()\n",
    "        self.linear=nn.Linear(4,3)\n",
    "    def forward(self, x):\n",
    "        return self.linear(x)\n",
    "model=SoftmaxClassifierModel()\n",
    "\n",
    "optimizer=optim.SGD(model.parameters(), lr=0.1)\n",
    "nb_epochs=1000\n",
    "for epoch in range(nb_epochs+1):\n",
    "    prediction=model(x_train)\n",
    "    cost=F.cross_entropy(prediction, y_train)\n",
    "    \n",
    "    optimizer.zero_grad()\n",
    "    cost.backward()\n",
    "    optimizer.step()\n",
    "    \n",
    "    if epoch %100 ==0:\n",
    "        print('Epoch {:4d}/{}, Cost: {:.6f}'.format(\n",
    "        epoch, nb_epochs, cost.item()\n",
    "        \n",
    "        ))"
   ]
  },
  {
   "cell_type": "code",
   "execution_count": null,
   "metadata": {},
   "outputs": [],
   "source": []
  }
 ],
 "metadata": {
  "kernelspec": {
   "display_name": "Python 3",
   "language": "python",
   "name": "python3"
  },
  "language_info": {
   "codemirror_mode": {
    "name": "ipython",
    "version": 3
   },
   "file_extension": ".py",
   "mimetype": "text/x-python",
   "name": "python",
   "nbconvert_exporter": "python",
   "pygments_lexer": "ipython3",
   "version": "3.7.4"
  }
 },
 "nbformat": 4,
 "nbformat_minor": 4
}
