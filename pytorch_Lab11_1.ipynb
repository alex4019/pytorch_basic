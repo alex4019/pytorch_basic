{
  "nbformat": 4,
  "nbformat_minor": 0,
  "metadata": {
    "colab": {
      "name": "pytorch_Lab11_1.ipynb",
      "provenance": []
    },
    "kernelspec": {
      "name": "python3",
      "display_name": "Python 3"
    },
    "accelerator": "GPU"
  },
  "cells": [
    {
      "cell_type": "code",
      "metadata": {
        "id": "G0Hx3yumMsHx",
        "colab_type": "code",
        "colab": {}
      },
      "source": [
        "import torch\n",
        "import torch.nn as nn\n",
        "import torch.nn.functional as F\n",
        "import torch.optim as optim\n",
        "import torchvision.datasets as dsets\n",
        "import torchvision.transforms as transforms\n",
        "import numpy as np"
      ],
      "execution_count": 0,
      "outputs": []
    },
    {
      "cell_type": "code",
      "metadata": {
        "id": "d-rk0BwrNHaz",
        "colab_type": "code",
        "colab": {
          "base_uri": "https://localhost:8080/",
          "height": 34
        },
        "outputId": "4ac384d0-0366-4831-af4b-7d1f94582365"
      },
      "source": [
        "torch.manual_seed(0)"
      ],
      "execution_count": 3,
      "outputs": [
        {
          "output_type": "execute_result",
          "data": {
            "text/plain": [
              "<torch._C.Generator at 0x7f6a1267ae10>"
            ]
          },
          "metadata": {
            "tags": []
          },
          "execution_count": 3
        }
      ]
    },
    {
      "cell_type": "code",
      "metadata": {
        "id": "-W6HTY-_OCuo",
        "colab_type": "code",
        "colab": {}
      },
      "source": [
        "input_size=4\n",
        "hidden_size=2"
      ],
      "execution_count": 0,
      "outputs": []
    },
    {
      "cell_type": "code",
      "metadata": {
        "id": "t-TIstEsOF3c",
        "colab_type": "code",
        "colab": {}
      },
      "source": [
        "h=[1,0,0,0]\n",
        "e=[0,1,0,0]\n",
        "l=[0,0,1,0]\n",
        "o=[0,0,0,1]\n",
        "input_data_np=np.array([[h,e,l,l,o], [e,o,l,l,o], [l,l,e,e,l]],dtype=np.float32)"
      ],
      "execution_count": 0,
      "outputs": []
    },
    {
      "cell_type": "code",
      "metadata": {
        "id": "V-OhbSiDOZdU",
        "colab_type": "code",
        "colab": {}
      },
      "source": [
        "input_data=torch.Tensor(input_data_np)\n",
        "rnn=nn.RNN(input_size, hidden_size)"
      ],
      "execution_count": 0,
      "outputs": []
    },
    {
      "cell_type": "code",
      "metadata": {
        "id": "kJY6LebHVIuh",
        "colab_type": "code",
        "colab": {
          "base_uri": "https://localhost:8080/",
          "height": 334
        },
        "outputId": "52c5f025-ff83-47d0-a433-ea7ee05d13e3"
      },
      "source": [
        "outputs, _status = rnn(input_data)\n",
        "print(outputs)\n",
        "print(outputs.size())"
      ],
      "execution_count": 12,
      "outputs": [
        {
          "output_type": "stream",
          "text": [
            "tensor([[[-0.4147,  0.5972],\n",
            "         [-0.2881,  0.7695],\n",
            "         [-0.8337,  0.2788],\n",
            "         [-0.8337,  0.2788],\n",
            "         [-0.7734,  0.7448]],\n",
            "\n",
            "        [[-0.2018,  0.3469],\n",
            "         [-0.7344,  0.2653],\n",
            "         [-0.7948, -0.4056],\n",
            "         [-0.7948, -0.4056],\n",
            "         [-0.7088, -0.0226]],\n",
            "\n",
            "        [[-0.8182, -0.0702],\n",
            "         [-0.7993, -0.3433],\n",
            "         [-0.2320,  0.6506],\n",
            "         [-0.2320,  0.6506],\n",
            "         [-0.8079, -0.1514]]], grad_fn=<StackBackward>)\n",
            "torch.Size([3, 5, 2])\n"
          ],
          "name": "stdout"
        }
      ]
    },
    {
      "cell_type": "code",
      "metadata": {
        "id": "TwPWXzXkVTvc",
        "colab_type": "code",
        "colab": {
          "base_uri": "https://localhost:8080/",
          "height": 334
        },
        "outputId": "97309f6d-4f3a-49a8-b72c-8ba8cbfc08f0"
      },
      "source": [
        "outputs, _status=rnn(input_data)\n",
        "print(outputs)\n",
        "print(outputs.size())"
      ],
      "execution_count": 13,
      "outputs": [
        {
          "output_type": "stream",
          "text": [
            "tensor([[[-0.4147,  0.5972],\n",
            "         [-0.2881,  0.7695],\n",
            "         [-0.8337,  0.2788],\n",
            "         [-0.8337,  0.2788],\n",
            "         [-0.7734,  0.7448]],\n",
            "\n",
            "        [[-0.2018,  0.3469],\n",
            "         [-0.7344,  0.2653],\n",
            "         [-0.7948, -0.4056],\n",
            "         [-0.7948, -0.4056],\n",
            "         [-0.7088, -0.0226]],\n",
            "\n",
            "        [[-0.8182, -0.0702],\n",
            "         [-0.7993, -0.3433],\n",
            "         [-0.2320,  0.6506],\n",
            "         [-0.2320,  0.6506],\n",
            "         [-0.8079, -0.1514]]], grad_fn=<StackBackward>)\n",
            "torch.Size([3, 5, 2])\n"
          ],
          "name": "stdout"
        }
      ]
    },
    {
      "cell_type": "code",
      "metadata": {
        "id": "GbGnbV6SVbkD",
        "colab_type": "code",
        "colab": {}
      },
      "source": [
        ""
      ],
      "execution_count": 0,
      "outputs": []
    }
  ]
}