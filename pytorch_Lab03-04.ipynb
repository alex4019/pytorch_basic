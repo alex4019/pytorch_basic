{
 "cells": [
  {
   "cell_type": "code",
   "execution_count": 2,
   "metadata": {},
   "outputs": [],
   "source": [
    "import torch\n",
    "import numpy as np\n",
    "import torch.nn as nn\n",
    "import torch.optim as optim\n",
    "import torch.nn.init as init"
   ]
  },
  {
   "cell_type": "markdown",
   "metadata": {},
   "source": [
    "hypothesis=x1_train *w1 + x2_train * w2 + x3_train *w3+b\n",
    "hypothesis2=x_train.matmul(W)+b\n",
    "cost=torch.mean((hypothesis - y_train)**2)\n",
    "optimizer=optim.SGD([W, b], lr=1e-5)\n",
    "\n",
    "optimizer.zero_grad()\n",
    "cost.backward()\n",
    "optimizer.step()"
   ]
  },
  {
   "cell_type": "code",
   "execution_count": 8,
   "metadata": {},
   "outputs": [
    {
     "name": "stdout",
     "output_type": "stream",
     "text": [
      "Epoch    0/50 hypothesis:tensor([0., 0., 0., 0., 0.]), Cost:29661.800781\n",
      "Epoch    1/50 hypothesis:tensor([67.2578, 80.8397, 79.6523, 86.7394, 61.6605]), Cost:9298.520508\n",
      "Epoch    2/50 hypothesis:tensor([104.9128, 126.0990, 124.2466, 135.3015,  96.1821]), Cost:2915.713135\n",
      "Epoch    3/50 hypothesis:tensor([125.9942, 151.4381, 149.2133, 162.4896, 115.5097]), Cost:915.040527\n",
      "Epoch    4/50 hypothesis:tensor([137.7968, 165.6247, 163.1911, 177.7112, 126.3307]), Cost:287.936005\n",
      "Epoch    5/50 hypothesis:tensor([144.4044, 173.5674, 171.0168, 186.2332, 132.3891]), Cost:91.371017\n",
      "Epoch    6/50 hypothesis:tensor([148.1035, 178.0144, 175.3980, 191.0042, 135.7812]), Cost:29.758139\n",
      "Epoch    7/50 hypothesis:tensor([150.1744, 180.5042, 177.8508, 193.6753, 137.6805]), Cost:10.445305\n",
      "Epoch    8/50 hypothesis:tensor([151.3336, 181.8983, 179.2240, 195.1707, 138.7440]), Cost:4.391228\n",
      "Epoch    9/50 hypothesis:tensor([151.9824, 182.6789, 179.9928, 196.0079, 139.3396]), Cost:2.493135\n",
      "Epoch   10/50 hypothesis:tensor([152.3454, 183.1161, 180.4231, 196.4765, 139.6732]), Cost:1.897688\n",
      "Epoch   11/50 hypothesis:tensor([152.5485, 183.3610, 180.6640, 196.7389, 139.8602]), Cost:1.710541\n",
      "Epoch   12/50 hypothesis:tensor([152.6620, 183.4982, 180.7988, 196.8857, 139.9651]), Cost:1.651413\n",
      "Epoch   13/50 hypothesis:tensor([152.7253, 183.5752, 180.8742, 196.9678, 140.0240]), Cost:1.632387\n",
      "Epoch   14/50 hypothesis:tensor([152.7606, 183.6184, 180.9164, 197.0138, 140.0571]), Cost:1.625923\n",
      "Epoch   15/50 hypothesis:tensor([152.7802, 183.6427, 180.9399, 197.0395, 140.0759]), Cost:1.623412\n",
      "Epoch   16/50 hypothesis:tensor([152.7909, 183.6565, 180.9530, 197.0538, 140.0865]), Cost:1.622141\n",
      "Epoch   17/50 hypothesis:tensor([152.7968, 183.6643, 180.9603, 197.0618, 140.0927]), Cost:1.621253\n",
      "Epoch   18/50 hypothesis:tensor([152.7999, 183.6688, 180.9644, 197.0662, 140.0963]), Cost:1.620500\n",
      "Epoch   19/50 hypothesis:tensor([152.8014, 183.6715, 180.9666, 197.0686, 140.0985]), Cost:1.619770\n",
      "Epoch   20/50 hypothesis:tensor([152.8020, 183.6731, 180.9677, 197.0699, 140.1000]), Cost:1.619033\n",
      "Epoch   21/50 hypothesis:tensor([152.8022, 183.6741, 180.9683, 197.0706, 140.1009]), Cost:1.618346\n",
      "Epoch   22/50 hypothesis:tensor([152.8021, 183.6749, 180.9686, 197.0709, 140.1016]), Cost:1.617637\n",
      "Epoch   23/50 hypothesis:tensor([152.8019, 183.6754, 180.9687, 197.0710, 140.1022]), Cost:1.616930\n",
      "Epoch   24/50 hypothesis:tensor([152.8016, 183.6758, 180.9687, 197.0711, 140.1027]), Cost:1.616221\n",
      "Epoch   25/50 hypothesis:tensor([152.8012, 183.6762, 180.9686, 197.0710, 140.1032]), Cost:1.615508\n",
      "Epoch   26/50 hypothesis:tensor([152.8008, 183.6765, 180.9686, 197.0710, 140.1036]), Cost:1.614815\n",
      "Epoch   27/50 hypothesis:tensor([152.8004, 183.6768, 180.9684, 197.0709, 140.1041]), Cost:1.614109\n",
      "Epoch   28/50 hypothesis:tensor([152.8000, 183.6772, 180.9683, 197.0707, 140.1045]), Cost:1.613387\n",
      "Epoch   29/50 hypothesis:tensor([152.7995, 183.6775, 180.9682, 197.0706, 140.1049]), Cost:1.612701\n",
      "Epoch   30/50 hypothesis:tensor([152.7991, 183.6778, 180.9681, 197.0705, 140.1053]), Cost:1.611987\n",
      "Epoch   31/50 hypothesis:tensor([152.7987, 183.6781, 180.9679, 197.0704, 140.1057]), Cost:1.611289\n",
      "Epoch   32/50 hypothesis:tensor([152.7982, 183.6784, 180.9678, 197.0703, 140.1061]), Cost:1.610588\n",
      "Epoch   33/50 hypothesis:tensor([152.7978, 183.6787, 180.9677, 197.0702, 140.1065]), Cost:1.609874\n",
      "Epoch   34/50 hypothesis:tensor([152.7974, 183.6790, 180.9676, 197.0701, 140.1069]), Cost:1.609183\n",
      "Epoch   35/50 hypothesis:tensor([152.7969, 183.6793, 180.9674, 197.0700, 140.1073]), Cost:1.608466\n",
      "Epoch   36/50 hypothesis:tensor([152.7965, 183.6796, 180.9673, 197.0699, 140.1078]), Cost:1.607776\n",
      "Epoch   37/50 hypothesis:tensor([152.7961, 183.6799, 180.9672, 197.0698, 140.1082]), Cost:1.607080\n",
      "Epoch   38/50 hypothesis:tensor([152.7957, 183.6802, 180.9670, 197.0697, 140.1086]), Cost:1.606384\n",
      "Epoch   39/50 hypothesis:tensor([152.7952, 183.6805, 180.9669, 197.0695, 140.1090]), Cost:1.605665\n",
      "Epoch   40/50 hypothesis:tensor([152.7948, 183.6807, 180.9668, 197.0694, 140.1094]), Cost:1.604974\n",
      "Epoch   41/50 hypothesis:tensor([152.7944, 183.6810, 180.9666, 197.0693, 140.1098]), Cost:1.604267\n",
      "Epoch   42/50 hypothesis:tensor([152.7939, 183.6813, 180.9665, 197.0692, 140.1102]), Cost:1.603586\n",
      "Epoch   43/50 hypothesis:tensor([152.7935, 183.6816, 180.9664, 197.0691, 140.1106]), Cost:1.602878\n",
      "Epoch   44/50 hypothesis:tensor([152.7931, 183.6819, 180.9663, 197.0690, 140.1110]), Cost:1.602179\n",
      "Epoch   45/50 hypothesis:tensor([152.7926, 183.6822, 180.9661, 197.0689, 140.1114]), Cost:1.601486\n",
      "Epoch   46/50 hypothesis:tensor([152.7922, 183.6826, 180.9660, 197.0688, 140.1118]), Cost:1.600765\n",
      "Epoch   47/50 hypothesis:tensor([152.7918, 183.6828, 180.9659, 197.0686, 140.1122]), Cost:1.600072\n",
      "Epoch   48/50 hypothesis:tensor([152.7914, 183.6831, 180.9657, 197.0685, 140.1126]), Cost:1.599369\n",
      "Epoch   49/50 hypothesis:tensor([152.7909, 183.6834, 180.9656, 197.0684, 140.1130]), Cost:1.598692\n",
      "Epoch   50/50 hypothesis:tensor([152.7905, 183.6837, 180.9655, 197.0683, 140.1134]), Cost:1.597991\n"
     ]
    }
   ],
   "source": [
    "x_train=torch.FloatTensor([[73, 80, 75],\n",
    "                          [93, 88, 93],\n",
    "                          [89, 91, 90],\n",
    "                           [96, 98, 100],\n",
    "                           [73, 66, 70]])\n",
    "y_train=torch.FloatTensor([[152], [185], [180], [196], [142]])\n",
    "\n",
    "W=torch.zeros((3,1), requires_grad=True)\n",
    "b=torch.zeros(1, requires_grad=True)\n",
    "\n",
    "optimizer=optim.SGD([W,b], lr=1e-5)\n",
    "nb_epoch=50\n",
    "for epoch in range(nb_epoch +1):\n",
    "    hypothesis=x_train.matmul(W)+b\n",
    "    cost=torch.mean((hypothesis - y_train)**2)\n",
    "    optimizer.zero_grad()\n",
    "    cost.backward()\n",
    "    optimizer.step()\n",
    "    \n",
    "    print('Epoch {:4d}/{} hypothesis:{}, Cost:{:.6f}'.format(\n",
    "    epoch, nb_epoch, hypothesis.squeeze().detach(),\n",
    "    cost.item()\n",
    "    ))"
   ]
  },
  {
   "cell_type": "code",
   "execution_count": 16,
   "metadata": {},
   "outputs": [],
   "source": [
    "from torch.utils.data import Dataset\n",
    "from torch.utils.data import DataLoader\n",
    "class Customdataset(Dataset):\n",
    "    def __init__(self):\n",
    "        self.x_data=[[73, 80, 75],\n",
    "                     [93, 88, 93],\n",
    "                     [89, 91, 90],\n",
    "                     [96, 98, 100],\n",
    "                     [73, 66, 70]]\n",
    "        self.y_data=[[152], [185], [180], [196], [142]]\n",
    "        \n",
    "    def __len__(self):\n",
    "        return len(self.x_data)\n",
    "    \n",
    "    def __getitem__(self, idx_):\n",
    "        x=torch.FloatTensor(self.x_data[idx])\n",
    "        y=torch.FloatTensor(self.y_data[idx])\n",
    "        \n",
    "        return x,y\n",
    "    \n",
    "dataset=Customdataset()\n",
    "\n",
    "dataloader=DataLoader(\n",
    "    dataset,\n",
    "    batch_size=2,\n",
    "    shuffle=True,\n",
    "\n",
    ")"
   ]
  },
  {
   "cell_type": "code",
   "execution_count": null,
   "metadata": {},
   "outputs": [],
   "source": []
  }
 ],
 "metadata": {
  "kernelspec": {
   "display_name": "Python 3",
   "language": "python",
   "name": "python3"
  },
  "language_info": {
   "codemirror_mode": {
    "name": "ipython",
    "version": 3
   },
   "file_extension": ".py",
   "mimetype": "text/x-python",
   "name": "python",
   "nbconvert_exporter": "python",
   "pygments_lexer": "ipython3",
   "version": "3.7.4"
  }
 },
 "nbformat": 4,
 "nbformat_minor": 4
}
