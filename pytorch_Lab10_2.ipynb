{
  "nbformat": 4,
  "nbformat_minor": 0,
  "metadata": {
    "colab": {
      "name": "Untitled1.ipynb",
      "provenance": []
    },
    "kernelspec": {
      "name": "python3",
      "display_name": "Python 3"
    },
    "accelerator": "GPU",
    "widgets": {
      "application/vnd.jupyter.widget-state+json": {
        "97d502941d194d95af1631f226151388": {
          "model_module": "@jupyter-widgets/controls",
          "model_name": "HBoxModel",
          "state": {
            "_view_name": "HBoxView",
            "_dom_classes": [],
            "_model_name": "HBoxModel",
            "_view_module": "@jupyter-widgets/controls",
            "_model_module_version": "1.5.0",
            "_view_count": null,
            "_view_module_version": "1.5.0",
            "box_style": "",
            "layout": "IPY_MODEL_190f479827c34eca983b54216d35dc7d",
            "_model_module": "@jupyter-widgets/controls",
            "children": [
              "IPY_MODEL_336bfe74c44c421482b6d0ca49671f6c",
              "IPY_MODEL_b9fef93ea219420bbeed9266c1eb4d63"
            ]
          }
        },
        "190f479827c34eca983b54216d35dc7d": {
          "model_module": "@jupyter-widgets/base",
          "model_name": "LayoutModel",
          "state": {
            "_view_name": "LayoutView",
            "grid_template_rows": null,
            "right": null,
            "justify_content": null,
            "_view_module": "@jupyter-widgets/base",
            "overflow": null,
            "_model_module_version": "1.2.0",
            "_view_count": null,
            "flex_flow": null,
            "width": null,
            "min_width": null,
            "border": null,
            "align_items": null,
            "bottom": null,
            "_model_module": "@jupyter-widgets/base",
            "top": null,
            "grid_column": null,
            "overflow_y": null,
            "overflow_x": null,
            "grid_auto_flow": null,
            "grid_area": null,
            "grid_template_columns": null,
            "flex": null,
            "_model_name": "LayoutModel",
            "justify_items": null,
            "grid_row": null,
            "max_height": null,
            "align_content": null,
            "visibility": null,
            "align_self": null,
            "height": null,
            "min_height": null,
            "padding": null,
            "grid_auto_rows": null,
            "grid_gap": null,
            "max_width": null,
            "order": null,
            "_view_module_version": "1.2.0",
            "grid_template_areas": null,
            "object_position": null,
            "object_fit": null,
            "grid_auto_columns": null,
            "margin": null,
            "display": null,
            "left": null
          }
        },
        "336bfe74c44c421482b6d0ca49671f6c": {
          "model_module": "@jupyter-widgets/controls",
          "model_name": "IntProgressModel",
          "state": {
            "_view_name": "ProgressView",
            "style": "IPY_MODEL_f9ae2a58a8aa4882b0cfac1bbc2b81a1",
            "_dom_classes": [],
            "description": "",
            "_model_name": "IntProgressModel",
            "bar_style": "success",
            "max": 1,
            "_view_module": "@jupyter-widgets/controls",
            "_model_module_version": "1.5.0",
            "value": 1,
            "_view_count": null,
            "_view_module_version": "1.5.0",
            "orientation": "horizontal",
            "min": 0,
            "description_tooltip": null,
            "_model_module": "@jupyter-widgets/controls",
            "layout": "IPY_MODEL_0f340fb2536e4d5aab5f40e009925e34"
          }
        },
        "b9fef93ea219420bbeed9266c1eb4d63": {
          "model_module": "@jupyter-widgets/controls",
          "model_name": "HTMLModel",
          "state": {
            "_view_name": "HTMLView",
            "style": "IPY_MODEL_c1e161240d794d1aa2fdf485390f0ea8",
            "_dom_classes": [],
            "description": "",
            "_model_name": "HTMLModel",
            "placeholder": "​",
            "_view_module": "@jupyter-widgets/controls",
            "_model_module_version": "1.5.0",
            "value": "9920512it [00:00, 1606878.45it/s]",
            "_view_count": null,
            "_view_module_version": "1.5.0",
            "description_tooltip": null,
            "_model_module": "@jupyter-widgets/controls",
            "layout": "IPY_MODEL_ed3c1f3797194281b75007b66c4442a5"
          }
        },
        "f9ae2a58a8aa4882b0cfac1bbc2b81a1": {
          "model_module": "@jupyter-widgets/controls",
          "model_name": "ProgressStyleModel",
          "state": {
            "_view_name": "StyleView",
            "_model_name": "ProgressStyleModel",
            "description_width": "",
            "_view_module": "@jupyter-widgets/base",
            "_model_module_version": "1.5.0",
            "_view_count": null,
            "_view_module_version": "1.2.0",
            "bar_color": null,
            "_model_module": "@jupyter-widgets/controls"
          }
        },
        "0f340fb2536e4d5aab5f40e009925e34": {
          "model_module": "@jupyter-widgets/base",
          "model_name": "LayoutModel",
          "state": {
            "_view_name": "LayoutView",
            "grid_template_rows": null,
            "right": null,
            "justify_content": null,
            "_view_module": "@jupyter-widgets/base",
            "overflow": null,
            "_model_module_version": "1.2.0",
            "_view_count": null,
            "flex_flow": null,
            "width": null,
            "min_width": null,
            "border": null,
            "align_items": null,
            "bottom": null,
            "_model_module": "@jupyter-widgets/base",
            "top": null,
            "grid_column": null,
            "overflow_y": null,
            "overflow_x": null,
            "grid_auto_flow": null,
            "grid_area": null,
            "grid_template_columns": null,
            "flex": null,
            "_model_name": "LayoutModel",
            "justify_items": null,
            "grid_row": null,
            "max_height": null,
            "align_content": null,
            "visibility": null,
            "align_self": null,
            "height": null,
            "min_height": null,
            "padding": null,
            "grid_auto_rows": null,
            "grid_gap": null,
            "max_width": null,
            "order": null,
            "_view_module_version": "1.2.0",
            "grid_template_areas": null,
            "object_position": null,
            "object_fit": null,
            "grid_auto_columns": null,
            "margin": null,
            "display": null,
            "left": null
          }
        },
        "c1e161240d794d1aa2fdf485390f0ea8": {
          "model_module": "@jupyter-widgets/controls",
          "model_name": "DescriptionStyleModel",
          "state": {
            "_view_name": "StyleView",
            "_model_name": "DescriptionStyleModel",
            "description_width": "",
            "_view_module": "@jupyter-widgets/base",
            "_model_module_version": "1.5.0",
            "_view_count": null,
            "_view_module_version": "1.2.0",
            "_model_module": "@jupyter-widgets/controls"
          }
        },
        "ed3c1f3797194281b75007b66c4442a5": {
          "model_module": "@jupyter-widgets/base",
          "model_name": "LayoutModel",
          "state": {
            "_view_name": "LayoutView",
            "grid_template_rows": null,
            "right": null,
            "justify_content": null,
            "_view_module": "@jupyter-widgets/base",
            "overflow": null,
            "_model_module_version": "1.2.0",
            "_view_count": null,
            "flex_flow": null,
            "width": null,
            "min_width": null,
            "border": null,
            "align_items": null,
            "bottom": null,
            "_model_module": "@jupyter-widgets/base",
            "top": null,
            "grid_column": null,
            "overflow_y": null,
            "overflow_x": null,
            "grid_auto_flow": null,
            "grid_area": null,
            "grid_template_columns": null,
            "flex": null,
            "_model_name": "LayoutModel",
            "justify_items": null,
            "grid_row": null,
            "max_height": null,
            "align_content": null,
            "visibility": null,
            "align_self": null,
            "height": null,
            "min_height": null,
            "padding": null,
            "grid_auto_rows": null,
            "grid_gap": null,
            "max_width": null,
            "order": null,
            "_view_module_version": "1.2.0",
            "grid_template_areas": null,
            "object_position": null,
            "object_fit": null,
            "grid_auto_columns": null,
            "margin": null,
            "display": null,
            "left": null
          }
        },
        "778c5df6a08f4f2c9835d2373686cc30": {
          "model_module": "@jupyter-widgets/controls",
          "model_name": "HBoxModel",
          "state": {
            "_view_name": "HBoxView",
            "_dom_classes": [],
            "_model_name": "HBoxModel",
            "_view_module": "@jupyter-widgets/controls",
            "_model_module_version": "1.5.0",
            "_view_count": null,
            "_view_module_version": "1.5.0",
            "box_style": "",
            "layout": "IPY_MODEL_5a2398ca06924cc1a6aa272b9f877243",
            "_model_module": "@jupyter-widgets/controls",
            "children": [
              "IPY_MODEL_aefc4773ca0f4c45ad235b658da5c1dc",
              "IPY_MODEL_6a502232004743239bfe2d8012caede7"
            ]
          }
        },
        "5a2398ca06924cc1a6aa272b9f877243": {
          "model_module": "@jupyter-widgets/base",
          "model_name": "LayoutModel",
          "state": {
            "_view_name": "LayoutView",
            "grid_template_rows": null,
            "right": null,
            "justify_content": null,
            "_view_module": "@jupyter-widgets/base",
            "overflow": null,
            "_model_module_version": "1.2.0",
            "_view_count": null,
            "flex_flow": null,
            "width": null,
            "min_width": null,
            "border": null,
            "align_items": null,
            "bottom": null,
            "_model_module": "@jupyter-widgets/base",
            "top": null,
            "grid_column": null,
            "overflow_y": null,
            "overflow_x": null,
            "grid_auto_flow": null,
            "grid_area": null,
            "grid_template_columns": null,
            "flex": null,
            "_model_name": "LayoutModel",
            "justify_items": null,
            "grid_row": null,
            "max_height": null,
            "align_content": null,
            "visibility": null,
            "align_self": null,
            "height": null,
            "min_height": null,
            "padding": null,
            "grid_auto_rows": null,
            "grid_gap": null,
            "max_width": null,
            "order": null,
            "_view_module_version": "1.2.0",
            "grid_template_areas": null,
            "object_position": null,
            "object_fit": null,
            "grid_auto_columns": null,
            "margin": null,
            "display": null,
            "left": null
          }
        },
        "aefc4773ca0f4c45ad235b658da5c1dc": {
          "model_module": "@jupyter-widgets/controls",
          "model_name": "IntProgressModel",
          "state": {
            "_view_name": "ProgressView",
            "style": "IPY_MODEL_f4b458ad3ea4470ebba32fdd7b16d628",
            "_dom_classes": [],
            "description": "",
            "_model_name": "IntProgressModel",
            "bar_style": "success",
            "max": 1,
            "_view_module": "@jupyter-widgets/controls",
            "_model_module_version": "1.5.0",
            "value": 1,
            "_view_count": null,
            "_view_module_version": "1.5.0",
            "orientation": "horizontal",
            "min": 0,
            "description_tooltip": null,
            "_model_module": "@jupyter-widgets/controls",
            "layout": "IPY_MODEL_cd136c6a71524abf95736ba1d5c6daac"
          }
        },
        "6a502232004743239bfe2d8012caede7": {
          "model_module": "@jupyter-widgets/controls",
          "model_name": "HTMLModel",
          "state": {
            "_view_name": "HTMLView",
            "style": "IPY_MODEL_694c7d9ea5794c49bef9c8c8d016bc17",
            "_dom_classes": [],
            "description": "",
            "_model_name": "HTMLModel",
            "placeholder": "​",
            "_view_module": "@jupyter-widgets/controls",
            "_model_module_version": "1.5.0",
            "value": "32768it [00:00, 228846.37it/s]",
            "_view_count": null,
            "_view_module_version": "1.5.0",
            "description_tooltip": null,
            "_model_module": "@jupyter-widgets/controls",
            "layout": "IPY_MODEL_40e0c2370ece488aaded203fc228f9c1"
          }
        },
        "f4b458ad3ea4470ebba32fdd7b16d628": {
          "model_module": "@jupyter-widgets/controls",
          "model_name": "ProgressStyleModel",
          "state": {
            "_view_name": "StyleView",
            "_model_name": "ProgressStyleModel",
            "description_width": "",
            "_view_module": "@jupyter-widgets/base",
            "_model_module_version": "1.5.0",
            "_view_count": null,
            "_view_module_version": "1.2.0",
            "bar_color": null,
            "_model_module": "@jupyter-widgets/controls"
          }
        },
        "cd136c6a71524abf95736ba1d5c6daac": {
          "model_module": "@jupyter-widgets/base",
          "model_name": "LayoutModel",
          "state": {
            "_view_name": "LayoutView",
            "grid_template_rows": null,
            "right": null,
            "justify_content": null,
            "_view_module": "@jupyter-widgets/base",
            "overflow": null,
            "_model_module_version": "1.2.0",
            "_view_count": null,
            "flex_flow": null,
            "width": null,
            "min_width": null,
            "border": null,
            "align_items": null,
            "bottom": null,
            "_model_module": "@jupyter-widgets/base",
            "top": null,
            "grid_column": null,
            "overflow_y": null,
            "overflow_x": null,
            "grid_auto_flow": null,
            "grid_area": null,
            "grid_template_columns": null,
            "flex": null,
            "_model_name": "LayoutModel",
            "justify_items": null,
            "grid_row": null,
            "max_height": null,
            "align_content": null,
            "visibility": null,
            "align_self": null,
            "height": null,
            "min_height": null,
            "padding": null,
            "grid_auto_rows": null,
            "grid_gap": null,
            "max_width": null,
            "order": null,
            "_view_module_version": "1.2.0",
            "grid_template_areas": null,
            "object_position": null,
            "object_fit": null,
            "grid_auto_columns": null,
            "margin": null,
            "display": null,
            "left": null
          }
        },
        "694c7d9ea5794c49bef9c8c8d016bc17": {
          "model_module": "@jupyter-widgets/controls",
          "model_name": "DescriptionStyleModel",
          "state": {
            "_view_name": "StyleView",
            "_model_name": "DescriptionStyleModel",
            "description_width": "",
            "_view_module": "@jupyter-widgets/base",
            "_model_module_version": "1.5.0",
            "_view_count": null,
            "_view_module_version": "1.2.0",
            "_model_module": "@jupyter-widgets/controls"
          }
        },
        "40e0c2370ece488aaded203fc228f9c1": {
          "model_module": "@jupyter-widgets/base",
          "model_name": "LayoutModel",
          "state": {
            "_view_name": "LayoutView",
            "grid_template_rows": null,
            "right": null,
            "justify_content": null,
            "_view_module": "@jupyter-widgets/base",
            "overflow": null,
            "_model_module_version": "1.2.0",
            "_view_count": null,
            "flex_flow": null,
            "width": null,
            "min_width": null,
            "border": null,
            "align_items": null,
            "bottom": null,
            "_model_module": "@jupyter-widgets/base",
            "top": null,
            "grid_column": null,
            "overflow_y": null,
            "overflow_x": null,
            "grid_auto_flow": null,
            "grid_area": null,
            "grid_template_columns": null,
            "flex": null,
            "_model_name": "LayoutModel",
            "justify_items": null,
            "grid_row": null,
            "max_height": null,
            "align_content": null,
            "visibility": null,
            "align_self": null,
            "height": null,
            "min_height": null,
            "padding": null,
            "grid_auto_rows": null,
            "grid_gap": null,
            "max_width": null,
            "order": null,
            "_view_module_version": "1.2.0",
            "grid_template_areas": null,
            "object_position": null,
            "object_fit": null,
            "grid_auto_columns": null,
            "margin": null,
            "display": null,
            "left": null
          }
        },
        "0974738929314f2d8b969aeb83325a09": {
          "model_module": "@jupyter-widgets/controls",
          "model_name": "HBoxModel",
          "state": {
            "_view_name": "HBoxView",
            "_dom_classes": [],
            "_model_name": "HBoxModel",
            "_view_module": "@jupyter-widgets/controls",
            "_model_module_version": "1.5.0",
            "_view_count": null,
            "_view_module_version": "1.5.0",
            "box_style": "",
            "layout": "IPY_MODEL_07768a96db5f4c9fbc9c2edc70728a8a",
            "_model_module": "@jupyter-widgets/controls",
            "children": [
              "IPY_MODEL_ae9a6f2c9440451f91e8375cae052894",
              "IPY_MODEL_326709a2f0ef4e89b1833e4f6e9771f3"
            ]
          }
        },
        "07768a96db5f4c9fbc9c2edc70728a8a": {
          "model_module": "@jupyter-widgets/base",
          "model_name": "LayoutModel",
          "state": {
            "_view_name": "LayoutView",
            "grid_template_rows": null,
            "right": null,
            "justify_content": null,
            "_view_module": "@jupyter-widgets/base",
            "overflow": null,
            "_model_module_version": "1.2.0",
            "_view_count": null,
            "flex_flow": null,
            "width": null,
            "min_width": null,
            "border": null,
            "align_items": null,
            "bottom": null,
            "_model_module": "@jupyter-widgets/base",
            "top": null,
            "grid_column": null,
            "overflow_y": null,
            "overflow_x": null,
            "grid_auto_flow": null,
            "grid_area": null,
            "grid_template_columns": null,
            "flex": null,
            "_model_name": "LayoutModel",
            "justify_items": null,
            "grid_row": null,
            "max_height": null,
            "align_content": null,
            "visibility": null,
            "align_self": null,
            "height": null,
            "min_height": null,
            "padding": null,
            "grid_auto_rows": null,
            "grid_gap": null,
            "max_width": null,
            "order": null,
            "_view_module_version": "1.2.0",
            "grid_template_areas": null,
            "object_position": null,
            "object_fit": null,
            "grid_auto_columns": null,
            "margin": null,
            "display": null,
            "left": null
          }
        },
        "ae9a6f2c9440451f91e8375cae052894": {
          "model_module": "@jupyter-widgets/controls",
          "model_name": "IntProgressModel",
          "state": {
            "_view_name": "ProgressView",
            "style": "IPY_MODEL_1a387058b4da4ccb9889d7386b263dcf",
            "_dom_classes": [],
            "description": "",
            "_model_name": "IntProgressModel",
            "bar_style": "success",
            "max": 1,
            "_view_module": "@jupyter-widgets/controls",
            "_model_module_version": "1.5.0",
            "value": 1,
            "_view_count": null,
            "_view_module_version": "1.5.0",
            "orientation": "horizontal",
            "min": 0,
            "description_tooltip": null,
            "_model_module": "@jupyter-widgets/controls",
            "layout": "IPY_MODEL_826c4b9b1c71472cbbd9a98ec3776e21"
          }
        },
        "326709a2f0ef4e89b1833e4f6e9771f3": {
          "model_module": "@jupyter-widgets/controls",
          "model_name": "HTMLModel",
          "state": {
            "_view_name": "HTMLView",
            "style": "IPY_MODEL_6cd096d5b11b432e97ae02eff3b885d3",
            "_dom_classes": [],
            "description": "",
            "_model_name": "HTMLModel",
            "placeholder": "​",
            "_view_module": "@jupyter-widgets/controls",
            "_model_module_version": "1.5.0",
            "value": "1654784it [00:00, 5044375.44it/s]",
            "_view_count": null,
            "_view_module_version": "1.5.0",
            "description_tooltip": null,
            "_model_module": "@jupyter-widgets/controls",
            "layout": "IPY_MODEL_66cd139713cb4f079b552997054a8749"
          }
        },
        "1a387058b4da4ccb9889d7386b263dcf": {
          "model_module": "@jupyter-widgets/controls",
          "model_name": "ProgressStyleModel",
          "state": {
            "_view_name": "StyleView",
            "_model_name": "ProgressStyleModel",
            "description_width": "",
            "_view_module": "@jupyter-widgets/base",
            "_model_module_version": "1.5.0",
            "_view_count": null,
            "_view_module_version": "1.2.0",
            "bar_color": null,
            "_model_module": "@jupyter-widgets/controls"
          }
        },
        "826c4b9b1c71472cbbd9a98ec3776e21": {
          "model_module": "@jupyter-widgets/base",
          "model_name": "LayoutModel",
          "state": {
            "_view_name": "LayoutView",
            "grid_template_rows": null,
            "right": null,
            "justify_content": null,
            "_view_module": "@jupyter-widgets/base",
            "overflow": null,
            "_model_module_version": "1.2.0",
            "_view_count": null,
            "flex_flow": null,
            "width": null,
            "min_width": null,
            "border": null,
            "align_items": null,
            "bottom": null,
            "_model_module": "@jupyter-widgets/base",
            "top": null,
            "grid_column": null,
            "overflow_y": null,
            "overflow_x": null,
            "grid_auto_flow": null,
            "grid_area": null,
            "grid_template_columns": null,
            "flex": null,
            "_model_name": "LayoutModel",
            "justify_items": null,
            "grid_row": null,
            "max_height": null,
            "align_content": null,
            "visibility": null,
            "align_self": null,
            "height": null,
            "min_height": null,
            "padding": null,
            "grid_auto_rows": null,
            "grid_gap": null,
            "max_width": null,
            "order": null,
            "_view_module_version": "1.2.0",
            "grid_template_areas": null,
            "object_position": null,
            "object_fit": null,
            "grid_auto_columns": null,
            "margin": null,
            "display": null,
            "left": null
          }
        },
        "6cd096d5b11b432e97ae02eff3b885d3": {
          "model_module": "@jupyter-widgets/controls",
          "model_name": "DescriptionStyleModel",
          "state": {
            "_view_name": "StyleView",
            "_model_name": "DescriptionStyleModel",
            "description_width": "",
            "_view_module": "@jupyter-widgets/base",
            "_model_module_version": "1.5.0",
            "_view_count": null,
            "_view_module_version": "1.2.0",
            "_model_module": "@jupyter-widgets/controls"
          }
        },
        "66cd139713cb4f079b552997054a8749": {
          "model_module": "@jupyter-widgets/base",
          "model_name": "LayoutModel",
          "state": {
            "_view_name": "LayoutView",
            "grid_template_rows": null,
            "right": null,
            "justify_content": null,
            "_view_module": "@jupyter-widgets/base",
            "overflow": null,
            "_model_module_version": "1.2.0",
            "_view_count": null,
            "flex_flow": null,
            "width": null,
            "min_width": null,
            "border": null,
            "align_items": null,
            "bottom": null,
            "_model_module": "@jupyter-widgets/base",
            "top": null,
            "grid_column": null,
            "overflow_y": null,
            "overflow_x": null,
            "grid_auto_flow": null,
            "grid_area": null,
            "grid_template_columns": null,
            "flex": null,
            "_model_name": "LayoutModel",
            "justify_items": null,
            "grid_row": null,
            "max_height": null,
            "align_content": null,
            "visibility": null,
            "align_self": null,
            "height": null,
            "min_height": null,
            "padding": null,
            "grid_auto_rows": null,
            "grid_gap": null,
            "max_width": null,
            "order": null,
            "_view_module_version": "1.2.0",
            "grid_template_areas": null,
            "object_position": null,
            "object_fit": null,
            "grid_auto_columns": null,
            "margin": null,
            "display": null,
            "left": null
          }
        },
        "eacc036da7104054bc41966f64a1fad8": {
          "model_module": "@jupyter-widgets/controls",
          "model_name": "HBoxModel",
          "state": {
            "_view_name": "HBoxView",
            "_dom_classes": [],
            "_model_name": "HBoxModel",
            "_view_module": "@jupyter-widgets/controls",
            "_model_module_version": "1.5.0",
            "_view_count": null,
            "_view_module_version": "1.5.0",
            "box_style": "",
            "layout": "IPY_MODEL_7b359484755a4e41b4c02cde7cea928a",
            "_model_module": "@jupyter-widgets/controls",
            "children": [
              "IPY_MODEL_312467c0a655415f848237e535967b95",
              "IPY_MODEL_fb01227f54a447f38064a25e58a4c072"
            ]
          }
        },
        "7b359484755a4e41b4c02cde7cea928a": {
          "model_module": "@jupyter-widgets/base",
          "model_name": "LayoutModel",
          "state": {
            "_view_name": "LayoutView",
            "grid_template_rows": null,
            "right": null,
            "justify_content": null,
            "_view_module": "@jupyter-widgets/base",
            "overflow": null,
            "_model_module_version": "1.2.0",
            "_view_count": null,
            "flex_flow": null,
            "width": null,
            "min_width": null,
            "border": null,
            "align_items": null,
            "bottom": null,
            "_model_module": "@jupyter-widgets/base",
            "top": null,
            "grid_column": null,
            "overflow_y": null,
            "overflow_x": null,
            "grid_auto_flow": null,
            "grid_area": null,
            "grid_template_columns": null,
            "flex": null,
            "_model_name": "LayoutModel",
            "justify_items": null,
            "grid_row": null,
            "max_height": null,
            "align_content": null,
            "visibility": null,
            "align_self": null,
            "height": null,
            "min_height": null,
            "padding": null,
            "grid_auto_rows": null,
            "grid_gap": null,
            "max_width": null,
            "order": null,
            "_view_module_version": "1.2.0",
            "grid_template_areas": null,
            "object_position": null,
            "object_fit": null,
            "grid_auto_columns": null,
            "margin": null,
            "display": null,
            "left": null
          }
        },
        "312467c0a655415f848237e535967b95": {
          "model_module": "@jupyter-widgets/controls",
          "model_name": "IntProgressModel",
          "state": {
            "_view_name": "ProgressView",
            "style": "IPY_MODEL_f4efc1822097430e942b0a16d31c04d8",
            "_dom_classes": [],
            "description": "",
            "_model_name": "IntProgressModel",
            "bar_style": "success",
            "max": 1,
            "_view_module": "@jupyter-widgets/controls",
            "_model_module_version": "1.5.0",
            "value": 1,
            "_view_count": null,
            "_view_module_version": "1.5.0",
            "orientation": "horizontal",
            "min": 0,
            "description_tooltip": null,
            "_model_module": "@jupyter-widgets/controls",
            "layout": "IPY_MODEL_25551eec17dc419fb10629970f3e7257"
          }
        },
        "fb01227f54a447f38064a25e58a4c072": {
          "model_module": "@jupyter-widgets/controls",
          "model_name": "HTMLModel",
          "state": {
            "_view_name": "HTMLView",
            "style": "IPY_MODEL_c9833d6cfba04bf49f59e8b3d1e4afa8",
            "_dom_classes": [],
            "description": "",
            "_model_name": "HTMLModel",
            "placeholder": "​",
            "_view_module": "@jupyter-widgets/controls",
            "_model_module_version": "1.5.0",
            "value": "8192it [00:00, 80471.73it/s]",
            "_view_count": null,
            "_view_module_version": "1.5.0",
            "description_tooltip": null,
            "_model_module": "@jupyter-widgets/controls",
            "layout": "IPY_MODEL_f4364f0fdd7d475aa87738b5f3d298a0"
          }
        },
        "f4efc1822097430e942b0a16d31c04d8": {
          "model_module": "@jupyter-widgets/controls",
          "model_name": "ProgressStyleModel",
          "state": {
            "_view_name": "StyleView",
            "_model_name": "ProgressStyleModel",
            "description_width": "",
            "_view_module": "@jupyter-widgets/base",
            "_model_module_version": "1.5.0",
            "_view_count": null,
            "_view_module_version": "1.2.0",
            "bar_color": null,
            "_model_module": "@jupyter-widgets/controls"
          }
        },
        "25551eec17dc419fb10629970f3e7257": {
          "model_module": "@jupyter-widgets/base",
          "model_name": "LayoutModel",
          "state": {
            "_view_name": "LayoutView",
            "grid_template_rows": null,
            "right": null,
            "justify_content": null,
            "_view_module": "@jupyter-widgets/base",
            "overflow": null,
            "_model_module_version": "1.2.0",
            "_view_count": null,
            "flex_flow": null,
            "width": null,
            "min_width": null,
            "border": null,
            "align_items": null,
            "bottom": null,
            "_model_module": "@jupyter-widgets/base",
            "top": null,
            "grid_column": null,
            "overflow_y": null,
            "overflow_x": null,
            "grid_auto_flow": null,
            "grid_area": null,
            "grid_template_columns": null,
            "flex": null,
            "_model_name": "LayoutModel",
            "justify_items": null,
            "grid_row": null,
            "max_height": null,
            "align_content": null,
            "visibility": null,
            "align_self": null,
            "height": null,
            "min_height": null,
            "padding": null,
            "grid_auto_rows": null,
            "grid_gap": null,
            "max_width": null,
            "order": null,
            "_view_module_version": "1.2.0",
            "grid_template_areas": null,
            "object_position": null,
            "object_fit": null,
            "grid_auto_columns": null,
            "margin": null,
            "display": null,
            "left": null
          }
        },
        "c9833d6cfba04bf49f59e8b3d1e4afa8": {
          "model_module": "@jupyter-widgets/controls",
          "model_name": "DescriptionStyleModel",
          "state": {
            "_view_name": "StyleView",
            "_model_name": "DescriptionStyleModel",
            "description_width": "",
            "_view_module": "@jupyter-widgets/base",
            "_model_module_version": "1.5.0",
            "_view_count": null,
            "_view_module_version": "1.2.0",
            "_model_module": "@jupyter-widgets/controls"
          }
        },
        "f4364f0fdd7d475aa87738b5f3d298a0": {
          "model_module": "@jupyter-widgets/base",
          "model_name": "LayoutModel",
          "state": {
            "_view_name": "LayoutView",
            "grid_template_rows": null,
            "right": null,
            "justify_content": null,
            "_view_module": "@jupyter-widgets/base",
            "overflow": null,
            "_model_module_version": "1.2.0",
            "_view_count": null,
            "flex_flow": null,
            "width": null,
            "min_width": null,
            "border": null,
            "align_items": null,
            "bottom": null,
            "_model_module": "@jupyter-widgets/base",
            "top": null,
            "grid_column": null,
            "overflow_y": null,
            "overflow_x": null,
            "grid_auto_flow": null,
            "grid_area": null,
            "grid_template_columns": null,
            "flex": null,
            "_model_name": "LayoutModel",
            "justify_items": null,
            "grid_row": null,
            "max_height": null,
            "align_content": null,
            "visibility": null,
            "align_self": null,
            "height": null,
            "min_height": null,
            "padding": null,
            "grid_auto_rows": null,
            "grid_gap": null,
            "max_width": null,
            "order": null,
            "_view_module_version": "1.2.0",
            "grid_template_areas": null,
            "object_position": null,
            "object_fit": null,
            "grid_auto_columns": null,
            "margin": null,
            "display": null,
            "left": null
          }
        }
      }
    }
  },
  "cells": [
    {
      "cell_type": "code",
      "metadata": {
        "id": "StN1IT-nv04E",
        "colab_type": "code",
        "colab": {}
      },
      "source": [
        "import torch\n",
        "import torch.nn as nn\n",
        "import torch.nn.functional as F\n",
        "import torch.optim as optim\n",
        "import torchvision.datasets as dsets\n",
        "import torchvision.transforms as transforms\n",
        "import torch.nn.init"
      ],
      "execution_count": 0,
      "outputs": []
    },
    {
      "cell_type": "code",
      "metadata": {
        "id": "XIdjC8pswYqu",
        "colab_type": "code",
        "colab": {
          "base_uri": "https://localhost:8080/",
          "height": 1000
        },
        "outputId": "990d1f09-945f-496e-e988-b05ebb44570d"
      },
      "source": [
        "inputs=torch.Tensor(1, 1,28, 28)\n",
        "inputs"
      ],
      "execution_count": 3,
      "outputs": [
        {
          "output_type": "execute_result",
          "data": {
            "text/plain": [
              "tensor([[[[ 0.0000e+00,  0.0000e+00,  1.4396e-38,  0.0000e+00,  4.4870e-42,\n",
              "            0.0000e+00,         nan,         nan,  6.7914e-33,  4.0104e+18,\n",
              "            4.2824e-42,  3.1809e-43,  0.0000e+00,  0.0000e+00,  1.4349e-42,\n",
              "            2.2959e-41,  8.8575e-39,  9.1835e-39,  9.9187e-39,  4.0041e-38,\n",
              "            9.1836e-39,  1.7339e-37,  6.4068e-37,  9.1836e-39,  2.7743e-36,\n",
              "            9.1851e-39,  1.1097e-35,  9.1851e-39],\n",
              "          [ 4.4389e-35,  2.6805e-36,  7.1025e-34,  2.6245e-33,  2.6801e-36,\n",
              "            1.1364e-32,  4.1994e-32,  1.6798e-31,  6.5203e-39,  6.8620e-34,\n",
              "            6.8612e-34,  7.7016e-37,  6.7019e-37,  2.0343e-33,  3.2650e-43,\n",
              "           -9.0888e+15,  1.8318e+25,  2.6381e+23,  7.2076e+31,  5.2943e-14,\n",
              "            5.4826e+05,  6.8291e+22,  1.7553e-40,  3.1040e-38,  1.6173e+25,\n",
              "            1.8524e+28,  2.8175e+20,  5.4267e-14],\n",
              "          [ 1.0393e+22,  1.1532e+27,  1.6457e+19, -1.6638e+16,  6.8589e+22,\n",
              "            1.6881e+25,  1.0836e+24,  7.9316e+34,  1.3873e-43,  0.0000e+00,\n",
              "            0.0000e+00,  1.4349e-42,  0.0000e+00,  7.2044e-39,  9.2754e-39,\n",
              "            9.1840e-39,  4.1879e-38,  1.6752e-37,  6.7008e-37,  2.6804e-36,\n",
              "            1.7988e-28,  4.2245e-38,  6.8620e-34,  1.6403e-34,  1.0980e-32,\n",
              "            6.5603e-34,  1.7568e-31,  2.6241e-33],\n",
              "          [ 2.8110e-30,  1.0496e-32,  4.4977e-29,  4.1986e-32,  3.6753e-40,\n",
              "            7.6268e-39,  3.2812e-34,  3.2843e+03,  2.3786e+20,  9.7110e-43,\n",
              "            2.0691e+08,  8.6942e+08,  7.3598e+31,  1.6957e-10,  4.4711e+21,\n",
              "            7.2728e+22,  1.8017e+31,  1.7186e+25,  2.8953e+32,  2.1503e-10,\n",
              "            2.8175e+20,  1.9363e+31,  4.4382e+27,  1.8524e+28,  1.7440e+28,\n",
              "            1.8320e+25,  1.7753e+28,  1.1022e+24],\n",
              "          [ 5.4895e+19,  2.2612e+20,  7.1833e+22,  1.1704e-19,  1.0008e+01,\n",
              "            9.2851e-04,  1.3563e-19,  1.3563e-19,  7.4105e+28,  1.3320e+31,\n",
              "            1.8062e+28,  1.5769e-19,  7.5880e+31,  4.6228e+30,  7.5635e+28,\n",
              "            4.9664e+28,  2.6301e+20,  7.1833e+22,  4.6681e+24,  1.9435e-19,\n",
              "            7.1547e+22,  4.7429e+30,  1.3556e-19,  1.3563e-19,  1.3563e-19,\n",
              "            6.4600e+19,  7.0067e+22,  5.4214e-11],\n",
              "          [ 6.4700e+19,  1.8768e+25,  5.5355e-11,  1.3563e-19,  1.3563e-19,\n",
              "            2.7953e+20,  7.1321e+28,  8.9055e-15,  1.1431e+27,  6.9768e+22,\n",
              "            2.9602e+29,  1.8524e+28,  6.4630e-04,  1.8919e+23,  7.2076e+31,\n",
              "            2.1686e-10,  1.7443e+28,  4.7418e+30,  4.6114e+24,  1.3591e-19,\n",
              "            6.9472e+22,  1.8037e+28,  2.0192e-19,  1.7304e-19,  1.0646e+24,\n",
              "            1.3556e-19,  1.3563e-19,  1.3563e-19],\n",
              "          [ 1.7418e+28,  7.1463e+22,  1.8759e+28,  1.9069e-19,  1.7443e+28,\n",
              "            4.7418e+30,  1.9346e-19,  1.9205e+31,  5.4214e-11,  8.2297e+23,\n",
              "            6.4600e+19,  1.7443e+28,  4.7418e+30,  1.8732e+11,  7.0696e+28,\n",
              "            7.4977e+28,  1.0803e-32,  1.3563e-19,  1.3563e-19,  1.1446e+24,\n",
              "            7.0816e+31,  1.8886e+31,  4.6894e+27,  2.6189e+20,  1.0396e+21,\n",
              "            1.4603e-19,  1.8469e+25,  1.0901e+27],\n",
              "          [ 1.0014e+01,  1.8987e+28,  7.2251e+28,  4.8366e+30,  2.8739e+23,\n",
              "            2.0113e-19,  7.1435e+31,  2.7256e+26,  1.2123e+25,  4.6114e+24,\n",
              "            1.3556e-19,  1.3563e-19,  1.3563e-19,  2.8146e+20,  7.2701e+31,\n",
              "            1.7589e+22,  2.7953e+20,  7.1321e+28,  2.0619e-19,  8.3997e-33,\n",
              "            1.3563e-19,  1.3563e-19,  1.9144e+28,  1.6634e+22,  6.9992e+28,\n",
              "            1.4605e-19,  1.8469e+25,  1.0901e+27],\n",
              "          [ 6.5629e+05,  4.8354e+30,  1.4603e-19,  1.9144e+28,  1.6634e+22,\n",
              "            4.6114e+24,  2.6301e+20,  7.1833e+22,  4.5581e+30,  5.0841e+31,\n",
              "            1.2119e+25,  4.5448e+30,  2.0701e-19,  1.0999e-32,  1.3563e-19,\n",
              "            1.3563e-19,  1.3563e-19,  1.9368e+31,  2.0702e-19,  3.1777e+30,\n",
              "            2.0704e-19,  7.1547e+22,  4.7429e+30,  6.5610e+05,  2.6301e+20,\n",
              "            7.1833e+22,  1.8470e+31,  4.6820e+30],\n",
              "          [ 7.4114e+34,  4.8554e+33,  2.7604e+20,  3.2457e-12,  2.0702e-19,\n",
              "            1.2414e+28,  1.1728e-19,  1.3563e-19,  1.3563e-19,  1.1815e+22,\n",
              "            1.1532e+27,  6.7406e+22,  1.0631e+24,  5.4209e-11,  1.3563e-19,\n",
              "            3.8814e+24,  9.1726e-04,  4.4602e+30,  1.1835e+33,  4.3014e+21,\n",
              "            4.5228e+21,  1.6911e+22,  1.1470e+27,  4.1584e+21,  7.0367e+22,\n",
              "            2.6451e+20,  1.8061e+28,  2.6307e+20],\n",
              "          [ 2.6100e+20,  2.2137e-10,  7.0067e+22,  2.1686e-10,  7.0067e+22,\n",
              "            5.4214e-11,  2.8175e+20,  7.1735e+22,  7.2233e+28,  2.6308e+20,\n",
              "            1.8498e-19,  1.6893e-07,  1.0693e-05,  3.2907e+21,  5.3184e+22,\n",
              "            2.5930e-09,  1.0503e-05,  1.3423e-05,  1.0431e-08,  1.0689e-35,\n",
              "            0.0000e+00,  9.6296e-35,  6.0185e-36,  3.7616e-37,  1.0141e+31,\n",
              "            2.4383e-43,  4.4816e-38,  1.9249e-37],\n",
              "          [ 4.6287e-38,  7.4059e-37,  8.2876e-37,  2.9622e-36,  1.1400e-38,\n",
              "            1.2032e-38,  1.1388e-38,  1.2032e-38,  1.1482e-35,  4.8135e-38,\n",
              "            9.4596e-39,  4.1942e-35,  1.1388e-38,  7.3435e-34,  1.1268e-32,\n",
              "            4.5067e-32,  1.8027e-31,  1.1896e-35,  2.8849e-30,  4.8130e-38,\n",
              "            4.7401e-35,  9.1837e-39,  9.1845e-39,  1.9545e-37,  2.2967e-39,\n",
              "            1.8386e-39,  4.2893e-35,  1.1388e-38],\n",
              "          [ 7.5196e-31,  1.1393e-38,  4.3916e-32,  1.1389e-38,  7.5196e-31,\n",
              "            4.7409e-35,  9.1837e-39,  2.6802e-36,  1.9543e-37,  2.2967e-39,\n",
              "            1.7153e-34,  1.1388e-38,  9.1862e-39,  1.3019e-31, -9.1593e+15,\n",
              "            2.7953e+20,  7.1321e+28,  8.6154e-29,  1.1446e+24,  7.0816e+31,\n",
              "            1.8886e+31,  4.6894e+27,  2.2611e+20,  7.1833e+22,  7.3697e+28,\n",
              "            7.1221e+28,  1.9349e-19,  2.9597e+21],\n",
              "          [ 3.0734e+32,  1.6931e+22,  1.4355e-19,  2.0789e-19,  2.0192e-19,\n",
              "            1.9435e-19,  1.9144e+28,  1.6634e+22,  3.0719e+32,  7.5554e+28,\n",
              "            4.8554e+33,  2.7604e+20,  7.3881e+31,  9.2162e-41,  2.3502e-38,\n",
              "            1.0250e-35,  7.5556e+31,  4.0832e-40,  9.1902e-29,  1.6615e+35,\n",
              "            7.1390e+31,  7.2716e+31,  7.5878e+31,  3.0347e+32,  4.9639e+28,\n",
              "            7.0292e+28,  3.0385e+29,  5.1931e-11],\n",
              "          [ 3.0341e+32,  1.7438e+28,  7.1856e+22,  4.8554e+33,  2.7604e+20,\n",
              "            4.2038e+30,  5.0832e+31,  7.0602e+28,  7.3172e+28,  1.2119e+25,\n",
              "                   nan,  4.9959e-37,  5.1820e-42,  1.2348e-39,  7.4572e-31,\n",
              "            2.8422e-14,  1.0605e+31,  4.5445e+30,  3.0296e-42,  9.8612e+18,\n",
              "            1.8014e+25, -1.5718e+16,  4.8554e+33,  2.7604e+20,  1.0438e+19,\n",
              "            4.2318e+21,  1.8056e+28,  4.5833e+30],\n",
              "          [-1.7554e+16,  1.8981e+28,  7.0072e+22,  7.5034e+28,  9.8028e+21,\n",
              "           -1.5865e+16,  1.0396e+21, -1.7129e+16, -1.7130e+16,  7.1444e+31,\n",
              "            4.0152e+25, -1.6777e+16,  7.4105e+28,  1.6157e+23,  1.7751e+28,\n",
              "           -1.6145e+16,  1.6919e+16,  2.7603e+20,  7.8738e+31,  1.7828e+31,\n",
              "            7.0976e+22,  7.1434e+22,  2.7904e+29,  1.0472e+28,  7.3914e+22,\n",
              "            1.2747e-34,  7.1727e+22,  1.2532e-23],\n",
              "          [ 2.5353e+30,  1.2612e-44,  3.7471e-42,  1.6021e-39,  3.2032e-37,\n",
              "            1.2240e-26,  2.8422e-14,  9.9333e+18,  2.7254e+20,  1.6101e+19,\n",
              "            8.0001e+03,  2.9395e+29,  2.8898e+29,  1.8889e+31,  1.1431e+27,\n",
              "            1.3882e+28,  1.8476e+31,  7.5572e+28,  1.1783e+33,  7.2250e+28,\n",
              "            7.5572e+28,  1.1783e+33,  7.2250e+28,  2.6308e+20,  7.1833e+22,\n",
              "            1.3901e+31,  1.7335e+25,  2.1594e+29],\n",
              "          [ 1.5104e-39,  2.4796e-39,  8.0402e-22,  0.0000e+00,  3.8836e-34,\n",
              "            3.8824e-34,  9.4797e-38,  2.4455e-35,  4.0713e-28,  1.1099e-19,\n",
              "            1.6753e+35,  2.0691e+08,  8.6942e+08,  1.6877e+25,  1.7612e+19,\n",
              "            2.1932e-40,  0.0000e+00,  3.6734e-40,  3.6734e-40,  6.1530e-39,\n",
              "            1.0687e+15,  2.6585e+36,  2.6671e+36,  4.0596e+31,  3.8832e+25,\n",
              "            6.6942e-24,  9.5150e-38,  1.0841e+37],\n",
              "          [ 3.9729e+25,  9.6281e+21, -4.0180e-31,  2.7101e+36,  9.8442e+21,\n",
              "            2.7218e+30,  3.8832e+25, -3.8346e-37,  2.7101e+36,  9.9180e+21,\n",
              "            2.7218e+30,  3.8832e+25, -3.8640e-37,  2.7309e+36,  1.5523e+23,\n",
              "            2.8494e-14,  1.4394e-32,  1.3563e-19,  1.3563e-19,  1.8337e+31,\n",
              "            1.3556e-19,  1.3563e-19,  1.3563e-19,  1.8037e+28,  2.1040e-19,\n",
              "            7.5555e+31,  6.5629e+05,  1.8611e+34],\n",
              "          [ 1.3563e-19,  1.3563e-19,  7.2675e+31,  1.8892e+31,  1.3556e-19,\n",
              "            1.3563e-19,  1.3563e-19,  3.0947e+32,  8.7518e-04,  4.5099e+27,\n",
              "            3.2600e-12,  4.4656e+30,  5.4267e-14,  6.8612e+22,  5.0832e+31,\n",
              "            6.8311e+22,  1.8470e+31,  1.7592e+22,  4.9663e+28,  4.6114e+24,\n",
              "            2.8146e+20,  7.2701e+31,  2.7254e+20,  8.3995e-33,  1.3563e-19,\n",
              "            1.3563e-19,  4.5299e-14,  2.5697e+27],\n",
              "          [ 9.6214e+08,  1.2219e-26, -9.0072e+15,  7.5555e+31,  7.6931e-42,\n",
              "            3.1640e-40,  2.6241e-33,  4.6316e+27,  2.7952e+20,  8.6758e-40,\n",
              "            1.1652e-32,  2.8422e-14,  2.6123e-39,  2.0501e-35,  6.7421e+22,\n",
              "            9.9626e+24,  8.2154e-35,  1.1446e+24,  5.1342e-20,  2.5353e+30,\n",
              "            4.3440e-44,  1.1639e-41,  1.0077e+19,  7.2701e+31,  4.4383e+27,\n",
              "            4.4423e-39,  2.9952e-30,  0.0000e+00],\n",
              "          [ 1.6283e-30,  6.2130e-33,  6.2130e-33,  6.3341e+11,  8.0815e+05,\n",
              "            1.2560e+19,  7.2701e+31,  4.4383e+27,  4.1762e-38,  0.0000e+00,\n",
              "            2.3510e-38,  9.4040e-38,  1.2800e+02,  1.0141e+31,  1.4013e-44,\n",
              "            1.1388e-38,  4.8124e-38,  3.1041e-38, -9.1593e+15,  1.7751e+28,\n",
              "            7.3344e-42,  2.5583e+30,  3.9236e-44,  1.1280e-41,  2.8878e-39,\n",
              "            2.0498e-19, -9.0072e+15,  1.0802e+27],\n",
              "          [ 1.6100e+19,  9.6690e-44,  8.7861e-43,  1.6745e+35,  2.0691e+08,\n",
              "            8.6942e+08,  1.0802e+27,  1.6100e+19,  4.9746e-43,  0.0000e+00,\n",
              "            1.0762e-42,  1.0762e-42,  2.4035e-41,  3.8983e-39,  1.1388e-38,\n",
              "            4.6469e-38,  1.7192e-37,  4.6288e-38,  2.7507e-36,  1.8588e-37,\n",
              "            1.8516e-37,  4.4011e-35,  8.4311e-16,  7.6228e-39,  7.6232e-39,\n",
              "            1.3185e+04,  2.6771e+30,  3.5032e-44],\n",
              "          [ 8.0519e-42,  2.1531e-39,  3.1278e-24,  2.5353e+30,  3.6434e-44,\n",
              "            2.6709e-42,  2.7245e+27,  4.1175e+21,  2.7491e+26,  5.2726e-14,\n",
              "            2.6123e-39,  1.2511e-23,  9.0072e+15,  2.7716e+20,  5.1332e-20,\n",
              "            2.5353e+30,  4.3440e-44,  1.1639e-41,  1.6939e-39,  6.6122e-39,\n",
              "            1.1700e-32,  0.0000e+00,  2.5445e-29,  1.5169e-36,  6.5488e+11,\n",
              "            8.0815e+05,  1.2560e+19,  4.2318e+21],\n",
              "          [ 1.8056e+28,  4.5833e+30,  4.6016e+21,  1.4013e-45,  0.0000e+00,\n",
              "            2.8026e-45,  7.0065e-45,  9.3887e-44,  1.8098e-41,  3.8832e+25,\n",
              "            2.5454e+30,  9.5520e+21,  2.3788e-38,  5.5143e+11,  3.8832e+25,\n",
              "            4.1036e+31,  3.8832e+25,  2.6893e+36,  2.7709e+36, -3.9501e-37,\n",
              "            9.4450e+21,  2.8494e-14,  2.1710e-16,  6.9776e+22,  1.0886e+27,\n",
              "            1.6631e+22,  7.0602e+28,  7.3172e+28],\n",
              "          [ 1.6926e+22,  1.7589e+22,  4.5450e+30,  6.8888e+22,  2.6772e+30,\n",
              "            2.5223e-44,  4.7541e+30,  4.8415e+30,  3.5032e-44,  2.3121e-42,\n",
              "            1.6714e+32,  5.0132e-23,  2.5353e+30,  5.8855e-44,  8.0074e-22,\n",
              "            2.5353e+30,  3.5032e-44,  1.1280e-41,  2.8878e-39,  2.0498e-19,\n",
              "            2.5353e+30,  2.3822e-44,  1.1070e-43,  3.7485e-42,  3.8820e-34,\n",
              "            1.5168e-36,  1.6748e+35,  2.0691e+08],\n",
              "          [ 8.6942e+08,  4.8554e+33,  2.7604e+20,  5.5013e+08,  5.2179e-31,\n",
              "            1.6071e+19,  7.0062e+22,  2.1029e-32,  7.3463e+28,  6.9790e+22,\n",
              "            3.3646e-31,  3.0598e+32,  2.7488e+20,  1.6097e+19,  1.6071e+19,\n",
              "            1.6388e+19,  4.0818e-39,  5.0044e-23,  2.5353e+30,  5.8855e-44,\n",
              "            5.8995e-42,  3.6225e-39,  5.3735e-14,  2.5353e+30,  2.5223e-44,\n",
              "            6.2582e-42,  1.0221e+19,  2.7254e+20],\n",
              "          [ 6.7132e+22,  1.6099e+19,  1.1280e-41,  2.8878e-39,  3.1040e-38,\n",
              "            1.0922e-41,  2.9796e-39,  7.2824e-34,  6.1630e-33,  1.0141e+31,\n",
              "            2.5223e-44,  2.4253e-38,  2.4245e-38,  2.8678e-26,  3.9991e-37,\n",
              "            7.2832e-34,  2.8422e-14,  1.0005e+19,  7.7770e+31,  1.6533e+19,\n",
              "            2.2470e-40,  6.4064e-37,  4.0463e+30,  4.2039e-45,  8.0519e-42,\n",
              "            4.2044e+28,  2.7691e+20,  1.0269e-35]]]])"
            ]
          },
          "metadata": {
            "tags": []
          },
          "execution_count": 3
        }
      ]
    },
    {
      "cell_type": "code",
      "metadata": {
        "id": "fZuLGHFcxs2L",
        "colab_type": "code",
        "colab": {
          "base_uri": "https://localhost:8080/",
          "height": 34
        },
        "outputId": "0d36e810-6ac0-473b-bbaf-786ccb59c05e"
      },
      "source": [
        "conv1=nn.Conv2d(1, 32, 3, stride=1, padding=1)\n",
        "pool=nn.MaxPool2d(2)\n",
        "conv2=nn.Conv2d(32,64, 3, stride=1, padding=1)\n",
        "out=conv1(inputs)\n",
        "out.shape\n",
        "out=pool(out)\n",
        "out.shape\n",
        "out=conv2(out)\n",
        "out.shape\n",
        "out=pool(out)\n",
        "out.shape\n",
        "out=out.view(out.size(0), -1)\n",
        "out.shape\n",
        "fc=nn.Linear(3136, 10)\n",
        "out=fc(out)\n",
        "out.shape"
      ],
      "execution_count": 4,
      "outputs": [
        {
          "output_type": "execute_result",
          "data": {
            "text/plain": [
              "torch.Size([1, 10])"
            ]
          },
          "metadata": {
            "tags": []
          },
          "execution_count": 4
        }
      ]
    },
    {
      "cell_type": "code",
      "metadata": {
        "id": "XKE8NCDnwDeA",
        "colab_type": "code",
        "colab": {
          "base_uri": "https://localhost:8080/",
          "height": 391,
          "referenced_widgets": [
            "97d502941d194d95af1631f226151388",
            "190f479827c34eca983b54216d35dc7d",
            "336bfe74c44c421482b6d0ca49671f6c",
            "b9fef93ea219420bbeed9266c1eb4d63",
            "f9ae2a58a8aa4882b0cfac1bbc2b81a1",
            "0f340fb2536e4d5aab5f40e009925e34",
            "c1e161240d794d1aa2fdf485390f0ea8",
            "ed3c1f3797194281b75007b66c4442a5",
            "778c5df6a08f4f2c9835d2373686cc30",
            "5a2398ca06924cc1a6aa272b9f877243",
            "aefc4773ca0f4c45ad235b658da5c1dc",
            "6a502232004743239bfe2d8012caede7",
            "f4b458ad3ea4470ebba32fdd7b16d628",
            "cd136c6a71524abf95736ba1d5c6daac",
            "694c7d9ea5794c49bef9c8c8d016bc17",
            "40e0c2370ece488aaded203fc228f9c1",
            "0974738929314f2d8b969aeb83325a09",
            "07768a96db5f4c9fbc9c2edc70728a8a",
            "ae9a6f2c9440451f91e8375cae052894",
            "326709a2f0ef4e89b1833e4f6e9771f3",
            "1a387058b4da4ccb9889d7386b263dcf",
            "826c4b9b1c71472cbbd9a98ec3776e21",
            "6cd096d5b11b432e97ae02eff3b885d3",
            "66cd139713cb4f079b552997054a8749",
            "eacc036da7104054bc41966f64a1fad8",
            "7b359484755a4e41b4c02cde7cea928a",
            "312467c0a655415f848237e535967b95",
            "fb01227f54a447f38064a25e58a4c072",
            "f4efc1822097430e942b0a16d31c04d8",
            "25551eec17dc419fb10629970f3e7257",
            "c9833d6cfba04bf49f59e8b3d1e4afa8",
            "f4364f0fdd7d475aa87738b5f3d298a0"
          ]
        },
        "outputId": "db8420dc-7c99-4d8f-816f-9677d65b671c"
      },
      "source": [
        "mnist_train=dsets.MNIST(root='/MNIST_data/', train=True, transform=transforms.ToTensor(), download=True)\n",
        "mnist_test=dsets.MNIST(root='/MNIST_data/', train=False, transform=transforms.ToTensor(), download=True)\n"
      ],
      "execution_count": 2,
      "outputs": [
        {
          "output_type": "stream",
          "text": [
            "Downloading http://yann.lecun.com/exdb/mnist/train-images-idx3-ubyte.gz to /MNIST_data/MNIST/raw/train-images-idx3-ubyte.gz\n"
          ],
          "name": "stdout"
        },
        {
          "output_type": "display_data",
          "data": {
            "application/vnd.jupyter.widget-view+json": {
              "model_id": "97d502941d194d95af1631f226151388",
              "version_minor": 0,
              "version_major": 2
            },
            "text/plain": [
              "HBox(children=(IntProgress(value=1, bar_style='info', max=1), HTML(value='')))"
            ]
          },
          "metadata": {
            "tags": []
          }
        },
        {
          "output_type": "stream",
          "text": [
            "\n",
            "Extracting /MNIST_data/MNIST/raw/train-images-idx3-ubyte.gz to /MNIST_data/MNIST/raw\n",
            "Downloading http://yann.lecun.com/exdb/mnist/train-labels-idx1-ubyte.gz to /MNIST_data/MNIST/raw/train-labels-idx1-ubyte.gz\n"
          ],
          "name": "stdout"
        },
        {
          "output_type": "display_data",
          "data": {
            "application/vnd.jupyter.widget-view+json": {
              "model_id": "778c5df6a08f4f2c9835d2373686cc30",
              "version_minor": 0,
              "version_major": 2
            },
            "text/plain": [
              "HBox(children=(IntProgress(value=1, bar_style='info', max=1), HTML(value='')))"
            ]
          },
          "metadata": {
            "tags": []
          }
        },
        {
          "output_type": "stream",
          "text": [
            "\n",
            "Extracting /MNIST_data/MNIST/raw/train-labels-idx1-ubyte.gz to /MNIST_data/MNIST/raw\n",
            "Downloading http://yann.lecun.com/exdb/mnist/t10k-images-idx3-ubyte.gz to /MNIST_data/MNIST/raw/t10k-images-idx3-ubyte.gz\n"
          ],
          "name": "stdout"
        },
        {
          "output_type": "display_data",
          "data": {
            "application/vnd.jupyter.widget-view+json": {
              "model_id": "0974738929314f2d8b969aeb83325a09",
              "version_minor": 0,
              "version_major": 2
            },
            "text/plain": [
              "HBox(children=(IntProgress(value=1, bar_style='info', max=1), HTML(value='')))"
            ]
          },
          "metadata": {
            "tags": []
          }
        },
        {
          "output_type": "stream",
          "text": [
            "\n",
            "Extracting /MNIST_data/MNIST/raw/t10k-images-idx3-ubyte.gz to /MNIST_data/MNIST/raw\n",
            "Downloading http://yann.lecun.com/exdb/mnist/t10k-labels-idx1-ubyte.gz to /MNIST_data/MNIST/raw/t10k-labels-idx1-ubyte.gz\n"
          ],
          "name": "stdout"
        },
        {
          "output_type": "display_data",
          "data": {
            "application/vnd.jupyter.widget-view+json": {
              "model_id": "eacc036da7104054bc41966f64a1fad8",
              "version_minor": 0,
              "version_major": 2
            },
            "text/plain": [
              "HBox(children=(IntProgress(value=1, bar_style='info', max=1), HTML(value='')))"
            ]
          },
          "metadata": {
            "tags": []
          }
        },
        {
          "output_type": "stream",
          "text": [
            "\n",
            "Extracting /MNIST_data/MNIST/raw/t10k-labels-idx1-ubyte.gz to /MNIST_data/MNIST/raw\n",
            "Processing...\n",
            "Done!\n"
          ],
          "name": "stdout"
        }
      ]
    },
    {
      "cell_type": "code",
      "metadata": {
        "id": "sm5qwiu2-Hk3",
        "colab_type": "code",
        "colab": {}
      },
      "source": [
        "device = 'cuda' if torch.cuda.is_available() else 'cpu'\n",
        "\n",
        "# for reproducibility\n",
        "torch.manual_seed(777)\n",
        "if device == 'cuda':\n",
        "    torch.cuda.manual_seed_all(777)"
      ],
      "execution_count": 0,
      "outputs": []
    },
    {
      "cell_type": "code",
      "metadata": {
        "id": "wFdtuzsP0Ibe",
        "colab_type": "code",
        "colab": {}
      },
      "source": [
        "data_loader = torch.utils.data.DataLoader(dataset=mnist_train,\n",
        "                                          batch_size=batch_size,\n",
        "                                          shuffle=True,\n",
        "                                          drop_last=True)"
      ],
      "execution_count": 0,
      "outputs": []
    },
    {
      "cell_type": "code",
      "metadata": {
        "id": "MH8Ip6dezdFh",
        "colab_type": "code",
        "colab": {}
      },
      "source": [
        "learning_rate=0.001\n",
        "training_epochs=15\n",
        "batch_size=100"
      ],
      "execution_count": 0,
      "outputs": []
    },
    {
      "cell_type": "code",
      "metadata": {
        "id": "2FE0louK2VyX",
        "colab_type": "code",
        "colab": {}
      },
      "source": [
        "class CNN(torch.nn.Module):\n",
        "\n",
        "    def __init__(self):\n",
        "        super(CNN, self).__init__()\n",
        "        self.layer1 = torch.nn.Sequential(\n",
        "            torch.nn.Conv2d(1, 32, kernel_size=3, stride=1, padding=1),\n",
        "            torch.nn.ReLU(),\n",
        "            torch.nn.MaxPool2d(kernel_size=2, stride=2))\n",
        "    \n",
        "        self.layer2 = torch.nn.Sequential(\n",
        "            torch.nn.Conv2d(32, 64, kernel_size=3, stride=1, padding=1),\n",
        "            torch.nn.ReLU(),\n",
        "            torch.nn.MaxPool2d(kernel_size=2, stride=2))\n",
        "        self.fc = torch.nn.Linear(7 * 7 * 64, 10, bias=True)\n",
        "        torch.nn.init.xavier_uniform_(self.fc.weight)\n",
        "\n",
        "    def forward(self, x):\n",
        "        out = self.layer1(x)\n",
        "        out = self.layer2(out)\n",
        "        out = out.view(out.size(0), -1)  \n",
        "        out = self.fc(out)\n",
        "        return out"
      ],
      "execution_count": 0,
      "outputs": []
    },
    {
      "cell_type": "code",
      "metadata": {
        "id": "KXm4AVvR23jQ",
        "colab_type": "code",
        "colab": {}
      },
      "source": [
        "model=CNN().to(device)"
      ],
      "execution_count": 0,
      "outputs": []
    },
    {
      "cell_type": "code",
      "metadata": {
        "id": "tbvC1XS12VEW",
        "colab_type": "code",
        "colab": {}
      },
      "source": [
        "criterion=nn.CrossEntropyLoss().to(device)\n",
        "optimizer = torch.optim.Adam(model.parameters(), lr=learning_rate)"
      ],
      "execution_count": 0,
      "outputs": []
    },
    {
      "cell_type": "code",
      "metadata": {
        "id": "HcAQv7kW3ZZv",
        "colab_type": "code",
        "colab": {
          "base_uri": "https://localhost:8080/",
          "height": 298
        },
        "outputId": "7732ffb9-ff13-4680-d725-77740babb46a"
      },
      "source": [
        "total_batch=len(data_loader)\n",
        "for epoch in range(training_epochs):\n",
        "  avg_cost=0\n",
        "\n",
        "  for X, Y in data_loader:\n",
        "    X=X.to(device)\n",
        "    Y=Y.to(device)\n",
        "    optimizer.zero_grad()\n",
        "    hypothesis=model(X)\n",
        "\n",
        "    cost=criterion(hypothesis, Y)\n",
        "    cost.backward()\n",
        "    optimizer.step()\n",
        "\n",
        "    avg_cost+=cost/total_batch\n",
        "\n",
        "  print('[Epoch:{}] cost= {}'.format(epoch+1, avg_cost))\n",
        "\n",
        "print('Learning Finished')"
      ],
      "execution_count": 30,
      "outputs": [
        {
          "output_type": "stream",
          "text": [
            "[Epoch:1] cost= 0.22396428883075714\n",
            "[Epoch:2] cost= 0.062215764075517654\n",
            "[Epoch:3] cost= 0.044817350804805756\n",
            "[Epoch:4] cost= 0.03552622348070145\n",
            "[Epoch:5] cost= 0.02898259647190571\n",
            "[Epoch:6] cost= 0.02484794706106186\n",
            "[Epoch:7] cost= 0.02070016600191593\n",
            "[Epoch:8] cost= 0.018210332840681076\n",
            "[Epoch:9] cost= 0.01506195217370987\n",
            "[Epoch:10] cost= 0.012585562653839588\n",
            "[Epoch:11] cost= 0.009993097744882107\n",
            "[Epoch:12] cost= 0.010541776195168495\n",
            "[Epoch:13] cost= 0.0085977828130126\n",
            "[Epoch:14] cost= 0.007436060346662998\n",
            "[Epoch:15] cost= 0.005328935571014881\n",
            "Learning Finished\n"
          ],
          "name": "stdout"
        }
      ]
    },
    {
      "cell_type": "code",
      "metadata": {
        "id": "7B2-WClY5UjI",
        "colab_type": "code",
        "colab": {
          "base_uri": "https://localhost:8080/",
          "height": 105
        },
        "outputId": "9aecdd2c-fef7-4f88-fddd-6df95c0354bf"
      },
      "source": [
        "with torch.no_grad():\n",
        "  X_test=mnist_test.test_data.view(len(mnist_test), 1, 28, 28).float().to(device)\n",
        "  Y_test=mnist_test.test_labels.to(device)\n",
        "\n",
        "  prediction=model(X_test)\n",
        "  correct_prediction=torch.argmax(prediction, 1)==Y_test\n",
        "  accuracy=correct_prediction.float().mean()\n",
        "  print('Accuracy', accuracy.item())\n"
      ],
      "execution_count": 31,
      "outputs": [
        {
          "output_type": "stream",
          "text": [
            "Accuracy 0.9870999455451965\n"
          ],
          "name": "stdout"
        },
        {
          "output_type": "stream",
          "text": [
            "/usr/local/lib/python3.6/dist-packages/torchvision/datasets/mnist.py:60: UserWarning: test_data has been renamed data\n",
            "  warnings.warn(\"test_data has been renamed data\")\n",
            "/usr/local/lib/python3.6/dist-packages/torchvision/datasets/mnist.py:50: UserWarning: test_labels has been renamed targets\n",
            "  warnings.warn(\"test_labels has been renamed targets\")\n"
          ],
          "name": "stderr"
        }
      ]
    },
    {
      "cell_type": "code",
      "metadata": {
        "id": "z2F_pic6-vW2",
        "colab_type": "code",
        "colab": {}
      },
      "source": [
        "class CNN(torch.nn.Module):\n",
        "\n",
        "    def __init__(self):\n",
        "        super(CNN, self).__init__()\n",
        "        self.layer1 = torch.nn.Sequential(\n",
        "            torch.nn.Conv2d(1, 32, kernel_size=3, stride=1, padding=1),\n",
        "            torch.nn.ReLU(),\n",
        "            torch.nn.MaxPool2d(kernel_size=2, stride=2))\n",
        "    \n",
        "        self.layer2 = torch.nn.Sequential(\n",
        "            torch.nn.Conv2d(32, 64, kernel_size=3, stride=1, padding=1),\n",
        "            torch.nn.ReLU(),\n",
        "            torch.nn.MaxPool2d(kernel_size=2, stride=2))\n",
        "        self.layer3=torch.nn.Sequential(\n",
        "            torch.nn.Conv2d(64, 128, kernel_size=3, stride=1,padding=1),\n",
        "            torch.nn.ReLU(),\n",
        "            nn.MaxPool2d(2)\n",
        "        )\n",
        "        self.fc1 = nn.Linear(3*3*128, 625)\n",
        "        self.relu=nn.ReLU()\n",
        "        self.fc2 = torch.nn.Linear(625, 10, bias=True)\n",
        "        torch.nn.init.xavier_uniform_(self.fc1.weight)\n",
        "        torch.nn.init.xavier_uniform_(self.fc2.weight)\n",
        "    def forward(self, x):\n",
        "        out = self.layer1(x)\n",
        "        out = self.layer2(out)\n",
        "        out = self.layer3(out)\n",
        "        out = out.view(out.size(0), -1)  \n",
        "        out = self.fc1(out)\n",
        "        out = self.relu(out)\n",
        "        out = self.fc2(out)\n",
        "        return out"
      ],
      "execution_count": 0,
      "outputs": []
    },
    {
      "cell_type": "code",
      "metadata": {
        "id": "Ih4X04gRAVco",
        "colab_type": "code",
        "colab": {
          "base_uri": "https://localhost:8080/",
          "height": 34
        },
        "outputId": "52fffe33-2710-4267-938c-3761b254d0e1"
      },
      "source": [
        "model=CNN().to(device)\n",
        "\n",
        "value=torch.Tensor(1, 1, 28, 28).to(device)\n",
        "print((model(value)).shape)"
      ],
      "execution_count": 41,
      "outputs": [
        {
          "output_type": "stream",
          "text": [
            "torch.Size([1, 10])\n"
          ],
          "name": "stdout"
        }
      ]
    },
    {
      "cell_type": "code",
      "metadata": {
        "id": "7qdD88sVAjhz",
        "colab_type": "code",
        "colab": {}
      },
      "source": [
        "criterion=nn.CrossEntropyLoss().to(device)\n",
        "optimizer = torch.optim.Adam(model.parameters(), lr=learning_rate)"
      ],
      "execution_count": 0,
      "outputs": []
    },
    {
      "cell_type": "code",
      "metadata": {
        "id": "0w1l_mHVBVbK",
        "colab_type": "code",
        "colab": {
          "base_uri": "https://localhost:8080/",
          "height": 298
        },
        "outputId": "529cc018-cedb-4ace-bbce-e4767c520c66"
      },
      "source": [
        "total_batch=len(data_loader)\n",
        "for epoch in range(training_epochs):\n",
        "  avg_cost=0\n",
        "\n",
        "  for X, Y in data_loader:\n",
        "    X=X.to(device)\n",
        "    Y=Y.to(device)\n",
        "    optimizer.zero_grad()\n",
        "    hypothesis=model(X)\n",
        "\n",
        "    cost=criterion(hypothesis, Y)\n",
        "    cost.backward()\n",
        "    optimizer.step()\n",
        "\n",
        "    avg_cost+=cost/total_batch\n",
        "\n",
        "  print('[Epoch:{}] cost= {}'.format(epoch+1, avg_cost))\n",
        "\n",
        "print('Learning Finished')"
      ],
      "execution_count": 43,
      "outputs": [
        {
          "output_type": "stream",
          "text": [
            "[Epoch:1] cost= 0.1616082787513733\n",
            "[Epoch:2] cost= 0.04166105017066002\n",
            "[Epoch:3] cost= 0.031178105622529984\n",
            "[Epoch:4] cost= 0.022192517295479774\n",
            "[Epoch:5] cost= 0.01759803108870983\n",
            "[Epoch:6] cost= 0.0147355105727911\n",
            "[Epoch:7] cost= 0.012392195872962475\n",
            "[Epoch:8] cost= 0.009382558986544609\n",
            "[Epoch:9] cost= 0.010531286709010601\n",
            "[Epoch:10] cost= 0.007864768616855145\n",
            "[Epoch:11] cost= 0.007288792636245489\n",
            "[Epoch:12] cost= 0.00773099297657609\n",
            "[Epoch:13] cost= 0.004898736719042063\n",
            "[Epoch:14] cost= 0.006648554466664791\n",
            "[Epoch:15] cost= 0.005461052991449833\n",
            "Learning Finished\n"
          ],
          "name": "stdout"
        }
      ]
    },
    {
      "cell_type": "code",
      "metadata": {
        "id": "kkMtHMW4BYfu",
        "colab_type": "code",
        "colab": {
          "base_uri": "https://localhost:8080/",
          "height": 105
        },
        "outputId": "026d5b3d-de2f-4094-a999-d32bc5564b4d"
      },
      "source": [
        "with torch.no_grad():\n",
        "  X_test=mnist_test.test_data.view(len(mnist_test), 1, 28, 28).float().to(device)\n",
        "  Y_test=mnist_test.test_labels.to(device)\n",
        "\n",
        "  prediction=model(X_test)\n",
        "  correct_prediction=torch.argmax(prediction, 1)==Y_test\n",
        "  accuracy=correct_prediction.float().mean()\n",
        "  print('Accuracy', accuracy.item())"
      ],
      "execution_count": 44,
      "outputs": [
        {
          "output_type": "stream",
          "text": [
            "Accuracy 0.9908999800682068\n"
          ],
          "name": "stdout"
        },
        {
          "output_type": "stream",
          "text": [
            "/usr/local/lib/python3.6/dist-packages/torchvision/datasets/mnist.py:60: UserWarning: test_data has been renamed data\n",
            "  warnings.warn(\"test_data has been renamed data\")\n",
            "/usr/local/lib/python3.6/dist-packages/torchvision/datasets/mnist.py:50: UserWarning: test_labels has been renamed targets\n",
            "  warnings.warn(\"test_labels has been renamed targets\")\n"
          ],
          "name": "stderr"
        }
      ]
    },
    {
      "cell_type": "code",
      "metadata": {
        "id": "JMbLmWTUB08_",
        "colab_type": "code",
        "colab": {}
      },
      "source": [
        ""
      ],
      "execution_count": 0,
      "outputs": []
    }
  ]
}